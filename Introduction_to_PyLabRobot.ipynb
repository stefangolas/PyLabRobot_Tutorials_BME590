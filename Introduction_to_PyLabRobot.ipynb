{
 "cells": [
  {
   "cell_type": "markdown",
   "id": "baf9fb61-2fc5-446c-9c4a-18801c7d7afa",
   "metadata": {},
   "source": [
    "# **Welcome to PyLabRobot!**\n",
    "\n",
    "PyLabRobot *(PLR)* is a universal Python interface to liquid-handling robots. Liquid-handling robots aspirate and dispense precise volumes\n",
    "of liquid in a Cartesian coordinate system, essentially the same as hand pipetting.\n",
    "\n",
    "PLR defines a universal interface class called **LiquidHandler** that provides generic methods for controlling robots\n",
    "such as aspirate and dispense. This class can be instantiated with one of several backends (or drivers)\n",
    "that convert generic commands to machine-specific commands. This makes it easy to write code that will\n",
    "be translatable across many different machines.\n",
    "\n",
    "First we will import `LiquidHandler`, a backend called `ChatterBoxBackend` that prints the text\n",
    "output of our commands, a class `Visualizer` that provides a visualization of the robot deck as we\n",
    "run commands, and a class `STARLetDeck` that will represent the deck of a Hamilton Microlab STARLet, one of\n",
    "the most widely used liquid handling robots."
   ]
  },
  {
   "cell_type": "markdown",
   "id": "9268a564-0e57-4ace-9b22-68fcffbfcc2f",
   "metadata": {},
   "source": [
    "### Imports"
   ]
  },
  {
   "cell_type": "code",
   "execution_count": 1,
   "id": "f8bcf094-3c3a-41c4-b0e8-5d2caeee9ca9",
   "metadata": {},
   "outputs": [],
   "source": [
    "from pylabrobot.liquid_handling import LiquidHandler\n",
    "from pylabrobot.liquid_handling.backends import ChatterBoxBackend\n",
    "from pylabrobot.visualizer.visualizer import Visualizer\n",
<<<<<<< HEAD
    "from pylabrobot.resources.opentrons import OTDeck\n"
=======
    "from pylabrobot.resources.hamilton import STARLetDeck\n",
    "from pylabrobot.resources.opentrons import OTDeck\n",
    "\n",
    "from pylabrobot.resources.opentrons.load import *\n",
    "from pylabrobot.resources.opentrons.plates import *\n",
    "\n",
    "import opentrons"
   ]
  },
  {
   "cell_type": "markdown",
   "id": "3c611cf0-ac3f-4e4d-8f48-b9d2241f5670",
   "metadata": {},
   "source": [
    "### Liquid Handler: High level abstraction, thing that takes in aspirate and dispense commands, abstract wrapper for all robot backends\n",
    "Give input backend, what robot you are planning to use, PLR is hardware agnostic, you use the abstract liquid handler scaffold and then pass in \n",
    "the details of your specific robot\n",
    "### Deck: What deck is your robot using, again it is hardware agnostic.\n",
    "\n",
    "* Restart kernel is your friend when working with PLR"
   ]
  },
  {
   "cell_type": "markdown",
   "id": "213a4b8c-098e-4e0e-bb9f-446ba5b1709a",
   "metadata": {},
   "source": [
    "## Deck Set-Up"
>>>>>>> 5bbd2fe399bda8846ff020c0106468ef7a8f6f66
   ]
  },
  {
   "cell_type": "code",
<<<<<<< HEAD
   "execution_count": 3,
=======
   "execution_count": 2,
>>>>>>> 5bbd2fe399bda8846ff020c0106468ef7a8f6f66
   "id": "8b372972-d6dc-454b-95eb-d9941405621b",
   "metadata": {},
   "outputs": [
    {
     "name": "stdout",
     "output_type": "stream",
     "text": [
      "Setting up the robot.\n",
      "Resource deck was assigned to the robot.\n",
      "Resource trash_container was assigned to the robot.\n"
     ]
    }
   ],
   "source": [
<<<<<<< HEAD
    "lh = LiquidHandler(backend=ChatterBoxBackend(), deck=OTDeck())\n",
=======
    "# Call setup to instantiate your specific instance of the robot\n",
    "\n",
    "# Hamilton\n",
    "#lh = LiquidHandler(backend=ChatterBoxBackend(), deck=STARLetDeck())\n",
    "\n",
    "# OpenTrons\n",
    "lh = LiquidHandler(backend=ChatterBoxBackend(), deck=OTDeck())\n",
    "\n",
    "# Use await because setup can take many minutes. Use await when you have a long function call that you\n",
    "# want to be able to do other things while its happening\n",
>>>>>>> 5bbd2fe399bda8846ff020c0106468ef7a8f6f66
    "await lh.setup()"
   ]
  },
  {
   "cell_type": "code",
   "execution_count": 3,
   "id": "0324171c-101d-4b3d-9103-a0137c620174",
   "metadata": {},
   "outputs": [
    {
     "name": "stdout",
     "output_type": "stream",
     "text": [
<<<<<<< HEAD
      "Websocket server started at http://127.0.0.1:2122\n",
      "File server started at http://127.0.0.1:1337 . Open this URL in your browser.\n"
     ]
=======
      "Websocket server started at http://127.0.0.1:2121\n",
      "File server started at http://127.0.0.1:1337 . Open this URL in your browser.\n"
     ]
    },
    {
     "name": "stderr",
     "output_type": "stream",
     "text": [
      "----------------------------------------\n",
      "Exception occurred during processing of request from ('127.0.0.1', 40734)\n",
      "Traceback (most recent call last):\n",
      "  File \"/usr/lib/python3.10/socketserver.py\", line 316, in _handle_request_noblock\n",
      "    self.process_request(request, client_address)\n",
      "  File \"/usr/lib/python3.10/socketserver.py\", line 347, in process_request\n",
      "    self.finish_request(request, client_address)\n",
      "  File \"/usr/lib/python3.10/socketserver.py\", line 360, in finish_request\n",
      "    self.RequestHandlerClass(request, client_address, self)\n",
      "  File \"/mnt/d/Chory Lab/PyLabRobot/pylabrobot/visualizer/visualizer.py\", line 322, in __init__\n",
      "    super().__init__(*args, directory=path, **kwargs)\n",
      "  File \"/usr/lib/python3.10/http/server.py\", line 651, in __init__\n",
      "    super().__init__(*args, **kwargs)\n",
      "  File \"/usr/lib/python3.10/socketserver.py\", line 747, in __init__\n",
      "    self.handle()\n",
      "  File \"/usr/lib/python3.10/http/server.py\", line 425, in handle\n",
      "    self.handle_one_request()\n",
      "  File \"/usr/lib/python3.10/http/server.py\", line 413, in handle_one_request\n",
      "    method()\n",
      "  File \"/mnt/d/Chory Lab/PyLabRobot/pylabrobot/visualizer/visualizer.py\", line 343, in do_GET\n",
      "    self.wfile.write(content.encode(\"utf-8\"))\n",
      "  File \"/usr/lib/python3.10/socketserver.py\", line 826, in write\n",
      "    self._sock.sendall(b)\n",
      "BrokenPipeError: [Errno 32] Broken pipe\n",
      "----------------------------------------\n"
     ]
>>>>>>> 5bbd2fe399bda8846ff020c0106468ef7a8f6f66
    }
   ],
   "source": [
    "# If you want to follow along in real time, instantiate the protocol visualizer\n",
    "vis = Visualizer(resource=lh)\n",
    "await vis.setup()"
   ]
  },
  {
   "cell_type": "markdown",
   "id": "42bf486e-b8cb-4918-a2e6-a9955e71c46b",
   "metadata": {},
   "source": [
    "### Put some labware on the deck!"
   ]
  },
  {
   "cell_type": "markdown",
   "id": "59b03cfb-8e42-441e-9887-e7a87453d7f7",
   "metadata": {},
   "source": [
    "Now we will import a tip carrier, a plate carrier, a plate, and a tip rack."
   ]
  },
  {
   "cell_type": "code",
<<<<<<< HEAD
   "execution_count": 5,
=======
   "execution_count": 16,
>>>>>>> 5bbd2fe399bda8846ff020c0106468ef7a8f6f66
   "id": "7bb36402-2303-4d2e-bd3e-4e10a29e891c",
   "metadata": {},
   "outputs": [],
   "source": [
    "from pylabrobot.resources import (\n",
    "    TIP_CAR_480_A00,\n",
    "    PLT_CAR_L5AC_A00,\n",
    "    Cos_96_DW_1mL,\n",
    "    HTF_L,\n",
    "    opentrons_96_tiprack_300ul,\n",
    "    opentrons_24_tuberack_eppendorf_2ml_safelock_snapcap\n",
    ")\n"
   ]
  },
  {
   "cell_type": "markdown",
   "id": "8cf826da-7d57-49ce-8303-d40501f50e2b",
   "metadata": {},
   "source": [
    "### Hamilton Tip Racks"
   ]
  },
  {
   "cell_type": "code",
<<<<<<< HEAD
   "execution_count": 6,
=======
   "execution_count": 5,
>>>>>>> 5bbd2fe399bda8846ff020c0106468ef7a8f6f66
   "id": "25faa001-8f09-43af-ac2a-5b6b6b21d47a",
   "metadata": {},
   "outputs": [
    {
<<<<<<< HEAD
     "name": "stdout",
     "output_type": "stream",
     "text": [
      "Resource tip carrier was assigned to the robot.\n"
=======
     "ename": "TypeError",
     "evalue": "OTDeck.assign_child_resource() got an unexpected keyword argument 'rails'",
     "output_type": "error",
     "traceback": [
      "\u001b[0;31m---------------------------------------------------------------------------\u001b[0m",
      "\u001b[0;31mTypeError\u001b[0m                                 Traceback (most recent call last)",
      "\u001b[0;32m/tmp/ipykernel_582/3930452725.py\u001b[0m in \u001b[0;36m<module>\u001b[0;34m\u001b[0m\n\u001b[1;32m      6\u001b[0m \u001b[0mtip_car\u001b[0m\u001b[0;34m[\u001b[0m\u001b[0;36m3\u001b[0m\u001b[0;34m]\u001b[0m \u001b[0;34m=\u001b[0m \u001b[0mtip_rack4\u001b[0m \u001b[0;34m=\u001b[0m \u001b[0mHTF_L\u001b[0m\u001b[0;34m(\u001b[0m\u001b[0mname\u001b[0m\u001b[0;34m=\u001b[0m\u001b[0;34m'tips_04'\u001b[0m\u001b[0;34m,\u001b[0m \u001b[0mwith_tips\u001b[0m\u001b[0;34m=\u001b[0m\u001b[0;32mFalse\u001b[0m\u001b[0;34m)\u001b[0m\u001b[0;34m\u001b[0m\u001b[0;34m\u001b[0m\u001b[0m\n\u001b[1;32m      7\u001b[0m \u001b[0mtip_car\u001b[0m\u001b[0;34m[\u001b[0m\u001b[0;36m4\u001b[0m\u001b[0;34m]\u001b[0m \u001b[0;34m=\u001b[0m \u001b[0mtip_rack5\u001b[0m \u001b[0;34m=\u001b[0m \u001b[0mHTF_L\u001b[0m\u001b[0;34m(\u001b[0m\u001b[0mname\u001b[0m\u001b[0;34m=\u001b[0m\u001b[0;34m'tips_05'\u001b[0m\u001b[0;34m,\u001b[0m \u001b[0mwith_tips\u001b[0m\u001b[0;34m=\u001b[0m\u001b[0;32mFalse\u001b[0m\u001b[0;34m)\u001b[0m\u001b[0;34m\u001b[0m\u001b[0;34m\u001b[0m\u001b[0m\n\u001b[0;32m----> 8\u001b[0;31m \u001b[0mlh\u001b[0m\u001b[0;34m.\u001b[0m\u001b[0mdeck\u001b[0m\u001b[0;34m.\u001b[0m\u001b[0massign_child_resource\u001b[0m\u001b[0;34m(\u001b[0m\u001b[0mtip_car\u001b[0m\u001b[0;34m,\u001b[0m \u001b[0mrails\u001b[0m\u001b[0;34m=\u001b[0m\u001b[0;36m15\u001b[0m\u001b[0;34m)\u001b[0m\u001b[0;34m\u001b[0m\u001b[0;34m\u001b[0m\u001b[0m\n\u001b[0m",
      "\u001b[0;31mTypeError\u001b[0m: OTDeck.assign_child_resource() got an unexpected keyword argument 'rails'"
>>>>>>> 5bbd2fe399bda8846ff020c0106468ef7a8f6f66
     ]
    }
   ],
   "source": [
    "# Hamilton Tips\n",
    "tip_car = TIP_CAR_480_A00(name='tip carrier')\n",
    "tip_car[0] = tip_rack1 = HTF_L(name='tips_01', with_tips=False)\n",
    "tip_car[1] = tip_rack2 = HTF_L(name='tips_02', with_tips=False)\n",
    "tip_car[2] = tip_rack3 = HTF_L(name='tips_03', with_tips=False)\n",
    "tip_car[3] = tip_rack4 = HTF_L(name='tips_04', with_tips=False)\n",
    "tip_car[4] = tip_rack5 = HTF_L(name='tips_05', with_tips=False)\n",
    "lh.deck.assign_child_resource(tip_car, rails=15)\n"
   ]
  },
  {
   "cell_type": "code",
   "execution_count": 7,
   "id": "5e7c1218-70e9-4905-b15a-16af3259c79f",
<<<<<<< HEAD
   "metadata": {},
   "outputs": [
    {
     "name": "stdout",
     "output_type": "stream",
     "text": [
      "Resource plate carrier was assigned to the robot.\n"
=======
   "metadata": {
    "scrolled": true
   },
   "outputs": [
    {
     "ename": "ValueError",
     "evalue": "Resource with name 'plate carrier' already defined.",
     "output_type": "error",
     "traceback": [
      "\u001b[0;31m---------------------------------------------------------------------------\u001b[0m",
      "\u001b[0;31mValueError\u001b[0m                                Traceback (most recent call last)",
      "\u001b[0;32m/tmp/ipykernel_200/3931165138.py\u001b[0m in \u001b[0;36m<module>\u001b[0;34m\u001b[0m\n\u001b[1;32m      3\u001b[0m \u001b[0mplt_car\u001b[0m\u001b[0;34m[\u001b[0m\u001b[0;36m1\u001b[0m\u001b[0;34m]\u001b[0m \u001b[0;34m=\u001b[0m \u001b[0mplate_2\u001b[0m \u001b[0;34m=\u001b[0m \u001b[0mCos_96_DW_1mL\u001b[0m\u001b[0;34m(\u001b[0m\u001b[0mname\u001b[0m\u001b[0;34m=\u001b[0m\u001b[0;34m'plate_02'\u001b[0m\u001b[0;34m)\u001b[0m\u001b[0;34m\u001b[0m\u001b[0;34m\u001b[0m\u001b[0m\n\u001b[1;32m      4\u001b[0m \u001b[0mplt_car\u001b[0m\u001b[0;34m[\u001b[0m\u001b[0;36m2\u001b[0m\u001b[0;34m]\u001b[0m \u001b[0;34m=\u001b[0m \u001b[0mplate_3\u001b[0m \u001b[0;34m=\u001b[0m \u001b[0mCos_96_DW_1mL\u001b[0m\u001b[0;34m(\u001b[0m\u001b[0mname\u001b[0m\u001b[0;34m=\u001b[0m\u001b[0;34m'plate_03'\u001b[0m\u001b[0;34m)\u001b[0m\u001b[0;34m\u001b[0m\u001b[0;34m\u001b[0m\u001b[0m\n\u001b[0;32m----> 5\u001b[0;31m \u001b[0mlh\u001b[0m\u001b[0;34m.\u001b[0m\u001b[0mdeck\u001b[0m\u001b[0;34m.\u001b[0m\u001b[0massign_child_resource\u001b[0m\u001b[0;34m(\u001b[0m\u001b[0mplt_car\u001b[0m\u001b[0;34m,\u001b[0m \u001b[0mrails\u001b[0m\u001b[0;34m=\u001b[0m\u001b[0;36m8\u001b[0m\u001b[0;34m)\u001b[0m\u001b[0;34m\u001b[0m\u001b[0;34m\u001b[0m\u001b[0m\n\u001b[0m",
      "\u001b[0;32m/mnt/d/Chory Lab/PyLabRobot/pylabrobot/resources/hamilton/hamilton_decks.py\u001b[0m in \u001b[0;36massign_child_resource\u001b[0;34m(self, resource, location, reassign, rails, replace)\u001b[0m\n\u001b[1;32m    113\u001b[0m         \u001b[0mcast\u001b[0m\u001b[0;34m(\u001b[0m\u001b[0mResource\u001b[0m\u001b[0;34m,\u001b[0m \u001b[0mself\u001b[0m\u001b[0;34m.\u001b[0m\u001b[0mget_resource\u001b[0m\u001b[0;34m(\u001b[0m\u001b[0mresource\u001b[0m\u001b[0;34m.\u001b[0m\u001b[0mname\u001b[0m\u001b[0;34m)\u001b[0m\u001b[0;34m)\u001b[0m\u001b[0;34m.\u001b[0m\u001b[0munassign\u001b[0m\u001b[0;34m(\u001b[0m\u001b[0;34m)\u001b[0m\u001b[0;34m\u001b[0m\u001b[0;34m\u001b[0m\u001b[0m\n\u001b[1;32m    114\u001b[0m       \u001b[0;32melse\u001b[0m\u001b[0;34m:\u001b[0m\u001b[0;34m\u001b[0m\u001b[0;34m\u001b[0m\u001b[0m\n\u001b[0;32m--> 115\u001b[0;31m         \u001b[0;32mraise\u001b[0m \u001b[0mValueError\u001b[0m\u001b[0;34m(\u001b[0m\u001b[0;34mf\"Resource with name '{resource.name}' already defined.\"\u001b[0m\u001b[0;34m)\u001b[0m\u001b[0;34m\u001b[0m\u001b[0;34m\u001b[0m\u001b[0m\n\u001b[0m\u001b[1;32m    116\u001b[0m \u001b[0;34m\u001b[0m\u001b[0m\n\u001b[1;32m    117\u001b[0m     \u001b[0;32mif\u001b[0m \u001b[0mrails\u001b[0m \u001b[0;32mis\u001b[0m \u001b[0;32mnot\u001b[0m \u001b[0;32mNone\u001b[0m\u001b[0;34m:\u001b[0m\u001b[0;34m\u001b[0m\u001b[0;34m\u001b[0m\u001b[0m\n",
      "\u001b[0;31mValueError\u001b[0m: Resource with name 'plate carrier' already defined."
>>>>>>> 5bbd2fe399bda8846ff020c0106468ef7a8f6f66
     ]
    }
   ],
   "source": [
    "plt_car = PLT_CAR_L5AC_A00(name='plate carrier')\n",
    "plt_car[0] = plate_1 = Cos_96_DW_1mL(name='plate_01')\n",
    "plt_car[1] = plate_2 = Cos_96_DW_1mL(name='plate_02')\n",
    "plt_car[2] = plate_3 = Cos_96_DW_1mL(name='plate_03')\n",
    "lh.deck.assign_child_resource(plt_car, rails=8)\n"
   ]
  },
  {
   "cell_type": "code",
<<<<<<< HEAD
   "execution_count": 8,
=======
   "execution_count": 6,
>>>>>>> 5bbd2fe399bda8846ff020c0106468ef7a8f6f66
   "id": "4421b04c-d894-4aaa-a9f4-7f51a16dc773",
   "metadata": {},
   "outputs": [],
   "source": [
    "tip_rack_1.fill()"
   ]
  },
  {
   "cell_type": "code",
   "execution_count": 9,
   "id": "74928e32-3910-434c-b0af-5bdc9c03a51e",
   "metadata": {},
   "outputs": [],
   "source": [
    "tip_rack4 = lh.deck.get_resource(\"tips_04\")\n",
    "tip_rack4.set_tip_state([[True]*6 + [False]*6]*8)\n",
    "tip_rack3.set_tip_state([[True, False]*6]*8)\n",
    "tip_rack2.set_tip_state([[True, True, False, False]*3]*8)\n"
   ]
  },
  {
   "cell_type": "markdown",
   "id": "2d2fba32-6be8-4248-88b2-ab74fb2047af",
   "metadata": {},
   "source": [
    "### OpenTrons Tip Racks"
   ]
  },
  {
   "cell_type": "code",
   "execution_count": 5,
   "id": "28b14d77-7cc3-4721-9f10-0867d9137a38",
   "metadata": {
    "scrolled": true
   },
   "outputs": [
    {
     "name": "stdout",
     "output_type": "stream",
     "text": [
      "Resource tip_rack_1 was assigned to the robot.\n",
      "Resource tip_rack_2 was assigned to the robot.\n"
     ]
    }
   ],
   "source": [
    "# OT2 Tips\n",
    "\n",
    "tip_rack_1 = opentrons_96_tiprack_300ul(\"tip_rack_1\")\n",
    "tip_rack_2 = opentrons_96_tiprack_300ul(\"tip_rack_2\")\n",
    "\n",
    "lh.deck.assign_child_at_slot(tip_rack_1, 7)\n",
    "lh.deck.assign_child_at_slot(tip_rack_2, 8)"
   ]
  },
  {
   "cell_type": "code",
   "execution_count": 6,
   "id": "7d16498c-5b03-4454-a197-dc1faf8a3a6f",
   "metadata": {},
   "outputs": [],
   "source": [
    "tip_rack2 = lh.deck.get_resource(\"tip_rack_2\")\n",
    "tip_rack2.set_tip_state([[True]*6 + [False]*6]*8)"
   ]
  },
  {
   "cell_type": "markdown",
   "id": "a06b3c22-5498-43dd-8e1e-ae0203c24f23",
   "metadata": {},
   "source": [
    "### OpenTrons Plates"
   ]
  },
  {
   "cell_type": "code",
   "execution_count": 7,
   "id": "16547556-5fd6-4af8-a37b-dd6a1d209981",
   "metadata": {},
   "outputs": [
    {
     "name": "stdout",
     "output_type": "stream",
     "text": [
      "Resource plate_1 was assigned to the robot.\n",
      "Resource plate_2 was assigned to the robot.\n"
     ]
    }
   ],
   "source": [
    "plate_1 = corning_96_wellplate_360ul_flat('plate_1')\n",
    "plate_2 = corning_96_wellplate_360ul_flat('plate_2')\n",
    "\n",
    "lh.deck.assign_child_at_slot(plate_1, 1)\n",
    "lh.deck.assign_child_at_slot(plate_2, 2)"
   ]
  },
  {
   "cell_type": "code",
   "execution_count": 101,
   "id": "534179d6-96aa-419f-832e-dbf6b19de0fa",
   "metadata": {},
   "outputs": [],
   "source": [
    "plate_1_liquids = [[('water', 200)]]*96\n",
    "plate_1.set_well_liquids(plate_1_liquids)\n",
    "plate_2_liquids = [[(None, 100)], [(None, 100)]]*(96//2)\n",
    "plate_2.set_well_liquids(plate_2_liquids)\n"
   ]
  },
  {
   "cell_type": "markdown",
   "id": "fa620baf-955e-4671-b86c-8288545c599b",
   "metadata": {},
   "source": [
    "### OpenTrons Tube Racks"
   ]
  },
  {
   "cell_type": "code",
   "execution_count": 17,
   "id": "aa3468cd-f660-4c2b-8568-ed3160172174",
   "metadata": {},
   "outputs": [
    {
     "name": "stdout",
     "output_type": "stream",
     "text": [
      "Resource rack_1 was assigned to the robot.\n",
      "Resource rack_2 was assigned to the robot.\n"
     ]
    }
   ],
   "source": [
    "rack_1 = opentrons_24_tuberack_eppendorf_2ml_safelock_snapcap('rack_1')\n",
    "rack_2 = opentrons_24_tuberack_eppendorf_2ml_safelock_snapcap('rack_2')\n",
    "\n",
    "lh.deck.assign_child_at_slot(rack_1, 4)\n",
    "lh.deck.assign_child_at_slot(rack_2, 5)"
   ]
  },
  {
   "cell_type": "code",
   "execution_count": 27,
   "id": "b65570bc-1589-43ec-9aa1-ece9c50187cd",
   "metadata": {},
   "outputs": [
    {
     "ename": "AttributeError",
     "evalue": "'TubeRack' object has no attribute 'set_liquids'",
     "output_type": "error",
     "traceback": [
      "\u001b[0;31m---------------------------------------------------------------------------\u001b[0m",
      "\u001b[0;31mAttributeError\u001b[0m                            Traceback (most recent call last)",
      "\u001b[0;32m/tmp/ipykernel_962/3721324440.py\u001b[0m in \u001b[0;36m<module>\u001b[0;34m\u001b[0m\n\u001b[1;32m      1\u001b[0m \u001b[0mrack_1_liquids\u001b[0m \u001b[0;34m=\u001b[0m \u001b[0;34m[\u001b[0m\u001b[0;34m[\u001b[0m\u001b[0;34m(\u001b[0m\u001b[0;34m'water'\u001b[0m\u001b[0;34m,\u001b[0m \u001b[0;36m200\u001b[0m\u001b[0;34m)\u001b[0m\u001b[0;34m]\u001b[0m\u001b[0;34m]\u001b[0m\u001b[0;34m*\u001b[0m\u001b[0;36m6\u001b[0m\u001b[0;34m\u001b[0m\u001b[0;34m\u001b[0m\u001b[0m\n\u001b[0;32m----> 2\u001b[0;31m \u001b[0mrack_1\u001b[0m\u001b[0;34m.\u001b[0m\u001b[0mset_liquids\u001b[0m\u001b[0;34m(\u001b[0m\u001b[0mplate_1_liquids\u001b[0m\u001b[0;34m)\u001b[0m\u001b[0;34m\u001b[0m\u001b[0;34m\u001b[0m\u001b[0m\n\u001b[0m",
      "\u001b[0;31mAttributeError\u001b[0m: 'TubeRack' object has no attribute 'set_liquids'"
     ]
    }
   ],
   "source": [
    "rack_1_liquids = [[('water', 200)]]*6\n",
    "rack_1.set_liquids(plate_1_liquids)\n"
   ]
  },
  {
   "cell_type": "code",
   "execution_count": 144,
   "id": "02e18147-5337-4c75-9fd4-4243499d3108",
   "metadata": {
    "scrolled": true
   },
   "outputs": [
    {
     "data": {
      "text/plain": [
       "[Tube(name=rack_1_A1, location=(018.210, 075.430, 041.270), size_x=6.223, size_y=6.223, size_z=39.1, category=tube),\n",
       " Tube(name=rack_1_B1, location=(018.210, 056.150, 041.270), size_x=6.223, size_y=6.223, size_z=39.1, category=tube),\n",
       " Tube(name=rack_1_C1, location=(018.210, 036.870, 041.270), size_x=6.223, size_y=6.223, size_z=39.1, category=tube),\n",
       " Tube(name=rack_1_D1, location=(018.210, 017.590, 041.270), size_x=6.223, size_y=6.223, size_z=39.1, category=tube),\n",
       " Tube(name=rack_1_A2, location=(038.100, 075.430, 041.270), size_x=6.223, size_y=6.223, size_z=39.1, category=tube),\n",
       " Tube(name=rack_1_B2, location=(038.100, 056.150, 041.270), size_x=6.223, size_y=6.223, size_z=39.1, category=tube),\n",
       " Tube(name=rack_1_C2, location=(038.100, 036.870, 041.270), size_x=6.223, size_y=6.223, size_z=39.1, category=tube),\n",
       " Tube(name=rack_1_D2, location=(038.100, 017.590, 041.270), size_x=6.223, size_y=6.223, size_z=39.1, category=tube),\n",
       " Tube(name=rack_1_A3, location=(057.990, 075.430, 041.270), size_x=6.223, size_y=6.223, size_z=39.1, category=tube),\n",
       " Tube(name=rack_1_B3, location=(057.990, 056.150, 041.270), size_x=6.223, size_y=6.223, size_z=39.1, category=tube),\n",
       " Tube(name=rack_1_C3, location=(057.990, 036.870, 041.270), size_x=6.223, size_y=6.223, size_z=39.1, category=tube),\n",
       " Tube(name=rack_1_D3, location=(057.990, 017.590, 041.270), size_x=6.223, size_y=6.223, size_z=39.1, category=tube),\n",
       " Tube(name=rack_1_A4, location=(077.880, 075.430, 041.270), size_x=6.223, size_y=6.223, size_z=39.1, category=tube),\n",
       " Tube(name=rack_1_B4, location=(077.880, 056.150, 041.270), size_x=6.223, size_y=6.223, size_z=39.1, category=tube),\n",
       " Tube(name=rack_1_C4, location=(077.880, 036.870, 041.270), size_x=6.223, size_y=6.223, size_z=39.1, category=tube),\n",
       " Tube(name=rack_1_D4, location=(077.880, 017.590, 041.270), size_x=6.223, size_y=6.223, size_z=39.1, category=tube),\n",
       " Tube(name=rack_1_A5, location=(097.770, 075.430, 041.270), size_x=6.223, size_y=6.223, size_z=39.1, category=tube),\n",
       " Tube(name=rack_1_B5, location=(097.770, 056.150, 041.270), size_x=6.223, size_y=6.223, size_z=39.1, category=tube),\n",
       " Tube(name=rack_1_C5, location=(097.770, 036.870, 041.270), size_x=6.223, size_y=6.223, size_z=39.1, category=tube),\n",
       " Tube(name=rack_1_D5, location=(097.770, 017.590, 041.270), size_x=6.223, size_y=6.223, size_z=39.1, category=tube),\n",
       " Tube(name=rack_1_A6, location=(117.660, 075.430, 041.270), size_x=6.223, size_y=6.223, size_z=39.1, category=tube),\n",
       " Tube(name=rack_1_B6, location=(117.660, 056.150, 041.270), size_x=6.223, size_y=6.223, size_z=39.1, category=tube),\n",
       " Tube(name=rack_1_C6, location=(117.660, 036.870, 041.270), size_x=6.223, size_y=6.223, size_z=39.1, category=tube),\n",
       " Tube(name=rack_1_D6, location=(117.660, 017.590, 041.270), size_x=6.223, size_y=6.223, size_z=39.1, category=tube)]"
      ]
     },
     "execution_count": 144,
     "metadata": {},
     "output_type": "execute_result"
    }
   ],
   "source": [
    "rack_1.get_all_children()"
   ]
  },
  {
   "cell_type": "code",
   "execution_count": 109,
   "id": "23cb1bc9-cb4f-4d70-b0f7-7727a2586561",
   "metadata": {},
   "outputs": [],
   "source": [
    "rack_1.enable_volume_trackers()"
   ]
  },
  {
   "cell_type": "code",
   "execution_count": 125,
   "id": "a467ab96-e1cb-4932-9e47-731831f29148",
   "metadata": {
    "scrolled": true
   },
   "outputs": [
    {
     "data": {
      "text/plain": [
       "['__class__',\n",
       " '__delattr__',\n",
       " '__dict__',\n",
       " '__dir__',\n",
       " '__doc__',\n",
       " '__eq__',\n",
       " '__format__',\n",
       " '__ge__',\n",
       " '__getattribute__',\n",
       " '__gt__',\n",
       " '__hash__',\n",
       " '__init__',\n",
       " '__init_subclass__',\n",
       " '__le__',\n",
       " '__lt__',\n",
       " '__module__',\n",
       " '__ne__',\n",
       " '__new__',\n",
       " '__reduce__',\n",
       " '__reduce_ex__',\n",
       " '__repr__',\n",
       " '__setattr__',\n",
       " '__sizeof__',\n",
       " '__str__',\n",
       " '__subclasshook__',\n",
       " '__weakref__',\n",
       " '_call_did_assign_resource_callbacks',\n",
       " '_call_did_unassign_resource_callbacks',\n",
       " '_call_will_assign_resource_callbacks',\n",
       " '_call_will_unassign_resource_callbacks',\n",
       " '_check_assignment',\n",
       " '_did_assign_resource_callbacks',\n",
       " '_did_unassign_resource_callbacks',\n",
       " '_name',\n",
       " '_resource_state_updated_callbacks',\n",
       " '_size_x',\n",
       " '_size_y',\n",
       " '_size_z',\n",
       " '_state_updated',\n",
       " '_will_assign_resource_callbacks',\n",
       " '_will_unassign_resource_callbacks',\n",
       " 'assign_child_resource',\n",
       " 'category',\n",
       " 'center',\n",
       " 'centers',\n",
       " 'children',\n",
       " 'copy',\n",
       " 'deregister_did_assign_resource_callback',\n",
       " 'deregister_did_unassign_resource_callback',\n",
       " 'deregister_state_update_callback',\n",
       " 'deregister_will_assign_resource_callback',\n",
       " 'deregister_will_unassign_resource_callback',\n",
       " 'deserialize',\n",
       " 'get_absolute_location',\n",
       " 'get_all_children',\n",
       " 'get_resource',\n",
       " 'get_size_x',\n",
       " 'get_size_y',\n",
       " 'get_size_z',\n",
       " 'load_all_state',\n",
       " 'load_from_json_file',\n",
       " 'load_state',\n",
       " 'load_state_from_file',\n",
       " 'location',\n",
       " 'max_volume',\n",
       " 'model',\n",
       " 'name',\n",
       " 'parent',\n",
       " 'register_did_assign_resource_callback',\n",
       " 'register_did_unassign_resource_callback',\n",
       " 'register_state_update_callback',\n",
       " 'register_will_assign_resource_callback',\n",
       " 'register_will_unassign_resource_callback',\n",
       " 'rotate',\n",
       " 'rotated',\n",
       " 'rotation',\n",
       " 'save',\n",
       " 'save_state_to_file',\n",
       " 'serialize',\n",
       " 'serialize_all_state',\n",
       " 'serialize_state',\n",
       " 'tracker',\n",
       " 'unassign',\n",
       " 'unassign_child_resource']"
      ]
     },
     "execution_count": 125,
     "metadata": {},
     "output_type": "execute_result"
    }
   ],
   "source": [
    "dir(rack_1['A1'][0])"
   ]
  },
  {
   "cell_type": "code",
   "execution_count": 58,
   "id": "4354a042-96d4-4e93-916e-1cc2a25f2c1e",
   "metadata": {},
   "outputs": [],
   "source": [
    "tube1 = rack_1[0][0]"
   ]
  },
  {
   "cell_type": "code",
   "execution_count": 138,
   "id": "8e5166dd-23a4-4d5b-b869-5fd4ca167f77",
   "metadata": {
    "scrolled": true
   },
   "outputs": [],
   "source": [
    "tube1.tracker.set_liquids([(None, 0)])"
   ]
  },
  {
   "cell_type": "code",
   "execution_count": 140,
   "id": "0a1fd4b0-7089-43be-bfde-de3b43d2b44b",
   "metadata": {},
   "outputs": [],
   "source": [
    "tube1.tracker.add_liquid(None, 2000)"
   ]
  },
  {
   "cell_type": "code",
   "execution_count": 141,
   "id": "cdbb78b9-39d4-4036-924a-a358d8c8c9a8",
   "metadata": {},
   "outputs": [
    {
     "data": {
      "text/plain": [
       "[(None, 2000)]"
      ]
     },
     "execution_count": 141,
     "metadata": {},
     "output_type": "execute_result"
    }
   ],
   "source": [
    "tube1.tracker.liquids"
   ]
  },
  {
   "cell_type": "code",
   "execution_count": 91,
   "id": "bebe9703-f00c-4975-9620-5eb3d0416001",
   "metadata": {},
   "outputs": [
    {
     "name": "stdout",
     "output_type": "stream",
     "text": [
      "Picking up tips [Pickup(resource=TipSpot(name=tip_rack_1_A1, location=(014.380, 074.240, 005.390), size_x=3.698, size_y=3.698, size_z=0, category=tip_spot), offset=None, tip=Tip(has_filter=False, total_tip_length=59.3, maximal_volume=300.0, fitting_depth=7.47))].\n",
      "Aspirating [Aspiration(resource=Tube(name=rack_1_A1, location=(018.210, 075.430, 041.270), size_x=6.223, size_y=6.223, size_z=39.1, category=tube), offset=None, tip=Tip(has_filter=False, total_tip_length=59.3, maximal_volume=300.0, fitting_depth=7.47), volume=100, flow_rate=None, liquid_height=None, blow_out_air_volume=None, liquids=[('Water', 100)])].\n",
      "Dispensing [Dispense(resource=Well(name=plate_2_A1, location=(014.380, 074.240, 003.550), size_x=4.851, size_y=4.851, size_z=10.67, category=well), offset=None, tip=Tip(has_filter=False, total_tip_length=59.3, maximal_volume=300.0, fitting_depth=7.47), volume=100, flow_rate=None, liquid_height=None, blow_out_air_volume=None, liquids=[('Water', 100)])].\n",
      "Dropping tips [Drop(resource=TipSpot(name=tip_rack_1_A1, location=(014.380, 074.240, 005.390), size_x=3.698, size_y=3.698, size_z=0, category=tip_spot), offset=None, tip=Tip(has_filter=False, total_tip_length=59.3, maximal_volume=300.0, fitting_depth=7.47))].\n"
     ]
    }
   ],
   "source": [
    "await lh.pick_up_tips(tip_rack_1[\"A1\"])\n",
    "time.sleep(1)\n",
    "\n",
    "await lh.aspirate(rack_1[\"A1\"], vols=[100])\n",
    "time.sleep(1)\n",
    "\n",
    "await lh.dispense(plate_2[\"A1\"], vols=[100])\n",
    "time.sleep(1)\n",
    "\n",
    "await lh.return_tips()"
   ]
  },
  {
   "cell_type": "code",
   "execution_count": 87,
   "id": "62fe14fa-2c25-413a-a982-db510f6d8c0b",
   "metadata": {},
   "outputs": [
    {
     "name": "stdout",
     "output_type": "stream",
     "text": [
      "Dropping tips [Drop(resource=TipSpot(name=tip_rack_1_A1, location=(014.380, 074.240, 005.390), size_x=3.698, size_y=3.698, size_z=0, category=tip_spot), offset=None, tip=Tip(has_filter=False, total_tip_length=59.3, maximal_volume=300.0, fitting_depth=7.47))].\n"
     ]
    }
   ],
   "source": [
    "await lh.return_tips()"
   ]
  },
  {
   "cell_type": "code",
   "execution_count": 29,
   "id": "ace711fd-1823-4056-b408-7f2f24be5338",
   "metadata": {},
   "outputs": [
    {
     "ename": "AttributeError",
     "evalue": "'list' object has no attribute 'add_liquid'",
     "output_type": "error",
     "traceback": [
      "\u001b[0;31m---------------------------------------------------------------------------\u001b[0m",
      "\u001b[0;31mAttributeError\u001b[0m                            Traceback (most recent call last)",
      "\u001b[0;32m/tmp/ipykernel_962/68121547.py\u001b[0m in \u001b[0;36m<module>\u001b[0;34m\u001b[0m\n\u001b[0;32m----> 1\u001b[0;31m \u001b[0mrack_1\u001b[0m\u001b[0;34m[\u001b[0m\u001b[0;36m0\u001b[0m\u001b[0;34m]\u001b[0m\u001b[0;34m.\u001b[0m\u001b[0madd_liquid\u001b[0m\u001b[0;34m(\u001b[0m\u001b[0;34m[\u001b[0m\u001b[0;34m(\u001b[0m\u001b[0;34m'water'\u001b[0m\u001b[0;34m,\u001b[0m \u001b[0;36m200\u001b[0m\u001b[0;34m)\u001b[0m\u001b[0;34m]\u001b[0m\u001b[0;34m)\u001b[0m\u001b[0;34m\u001b[0m\u001b[0;34m\u001b[0m\u001b[0m\n\u001b[0m",
      "\u001b[0;31mAttributeError\u001b[0m: 'list' object has no attribute 'add_liquid'"
     ]
    }
   ],
   "source": [
    "rack_1.get[0].add_liquid([('water', 200)])"
   ]
  },
  {
   "cell_type": "code",
   "execution_count": 9,
   "id": "21e6aa85-cbe1-4c8e-bbe7-1e33eaccdc20",
   "metadata": {},
   "outputs": [
    {
     "data": {
      "text/plain": [
       "(None, None)"
      ]
     },
     "execution_count": 9,
     "metadata": {},
     "output_type": "execute_result"
    }
   ],
   "source": [
    "from pylabrobot.resources import set_tip_tracking, set_volume_tracking\n",
    "set_tip_tracking(True), set_volume_tracking(True)"
   ]
  },
  {
   "cell_type": "code",
   "execution_count": 12,
   "id": "8055306d-042d-4d83-a685-139a221d8665",
   "metadata": {},
   "outputs": [],
   "source": [
    "import time"
   ]
  },
  {
   "cell_type": "code",
   "execution_count": 14,
   "id": "7eda3c13-e750-4823-8327-5e5baba6ac2d",
   "metadata": {},
   "outputs": [
    {
     "name": "stdout",
     "output_type": "stream",
     "text": [
      "Picking up tips [Pickup(resource=TipSpot(name=tip_rack_1_A1, location=(014.380, 074.240, 005.390), size_x=3.698, size_y=3.698, size_z=0, category=tip_spot), offset=None, tip=Tip(has_filter=False, total_tip_length=59.3, maximal_volume=300.0, fitting_depth=7.47)), Pickup(resource=TipSpot(name=tip_rack_1_B2, location=(023.380, 065.240, 005.390), size_x=3.698, size_y=3.698, size_z=0, category=tip_spot), offset=None, tip=Tip(has_filter=False, total_tip_length=59.3, maximal_volume=300.0, fitting_depth=7.47)), Pickup(resource=TipSpot(name=tip_rack_1_C3, location=(032.380, 056.240, 005.390), size_x=3.698, size_y=3.698, size_z=0, category=tip_spot), offset=None, tip=Tip(has_filter=False, total_tip_length=59.3, maximal_volume=300.0, fitting_depth=7.47)), Pickup(resource=TipSpot(name=tip_rack_1_D4, location=(041.380, 047.240, 005.390), size_x=3.698, size_y=3.698, size_z=0, category=tip_spot), offset=None, tip=Tip(has_filter=False, total_tip_length=59.3, maximal_volume=300.0, fitting_depth=7.47))].\n",
      "Dropping tips [Drop(resource=TipSpot(name=tip_rack_1_A1, location=(014.380, 074.240, 005.390), size_x=3.698, size_y=3.698, size_z=0, category=tip_spot), offset=None, tip=Tip(has_filter=False, total_tip_length=59.3, maximal_volume=300.0, fitting_depth=7.47)), Drop(resource=TipSpot(name=tip_rack_1_B2, location=(023.380, 065.240, 005.390), size_x=3.698, size_y=3.698, size_z=0, category=tip_spot), offset=None, tip=Tip(has_filter=False, total_tip_length=59.3, maximal_volume=300.0, fitting_depth=7.47)), Drop(resource=TipSpot(name=tip_rack_1_C3, location=(032.380, 056.240, 005.390), size_x=3.698, size_y=3.698, size_z=0, category=tip_spot), offset=None, tip=Tip(has_filter=False, total_tip_length=59.3, maximal_volume=300.0, fitting_depth=7.47)), Drop(resource=TipSpot(name=tip_rack_1_D4, location=(041.380, 047.240, 005.390), size_x=3.698, size_y=3.698, size_z=0, category=tip_spot), offset=None, tip=Tip(has_filter=False, total_tip_length=59.3, maximal_volume=300.0, fitting_depth=7.47))].\n"
     ]
    }
   ],
   "source": [
    "await lh.pick_up_tips(tip_rack_1[\"A1\", \"B2\", \"C3\", \"D4\"])\n",
    "time.sleep(2)\n",
    "await lh.drop_tips(tip_rack_1[\"A1\", \"B2\", \"C3\", \"D4\"])\n"
   ]
  },
  {
   "cell_type": "code",
<<<<<<< HEAD
   "execution_count": null,
=======
   "execution_count": 13,
>>>>>>> 5bbd2fe399bda8846ff020c0106468ef7a8f6f66
   "id": "464f5dd7-8d85-407b-b4d6-693340f90c5e",
   "metadata": {
    "scrolled": true
   },
   "outputs": [
    {
     "name": "stdout",
     "output_type": "stream",
     "text": [
      "Picking up tips [Pickup(resource=TipSpot(name=tip_rack_1_A1, location=(014.380, 074.240, 005.390), size_x=3.698, size_y=3.698, size_z=0, category=tip_spot), offset=None, tip=Tip(has_filter=False, total_tip_length=59.3, maximal_volume=300.0, fitting_depth=7.47))].\n"
     ]
    }
   ],
   "source": [
    "await lh.pick_up_tips(tip_rack_1[\"A1\"])"
   ]
  },
  {
   "cell_type": "code",
   "execution_count": 14,
   "id": "1e4c9bb2-58e9-4c4d-a9d4-fa65db824f20",
   "metadata": {},
   "outputs": [
    {
     "name": "stdout",
     "output_type": "stream",
     "text": [
      "Aspirating [Aspiration(resource=Well(name=plate_1_A2, location=(023.380, 074.240, 003.550), size_x=4.851, size_y=4.851, size_z=10.67, category=well), offset=None, tip=Tip(has_filter=False, total_tip_length=59.3, maximal_volume=300.0, fitting_depth=7.47), volume=100, flow_rate=None, liquid_height=None, blow_out_air_volume=None, liquids=[('water', 100)])].\n"
     ]
    }
   ],
   "source": [
<<<<<<< HEAD
    "await lh.aspirate(plate_1[\"A1\"], vols=[300])\n"
=======
    "await lh.aspirate(plate_1[\"A2\"], vols=[100])"
>>>>>>> 5bbd2fe399bda8846ff020c0106468ef7a8f6f66
   ]
  },
  {
   "cell_type": "code",
   "execution_count": 15,
   "id": "ce90182d-607b-4e93-bc9a-1d7dfef80e66",
   "metadata": {},
   "outputs": [
    {
     "name": "stdout",
     "output_type": "stream",
     "text": [
      "Dispensing [Dispense(resource=Well(name=plate_2_A1, location=(014.380, 074.240, 003.550), size_x=4.851, size_y=4.851, size_z=10.67, category=well), offset=None, tip=Tip(has_filter=False, total_tip_length=59.3, maximal_volume=300.0, fitting_depth=7.47), volume=100, flow_rate=None, liquid_height=None, blow_out_air_volume=None, liquids=[('water', 100)])].\n"
     ]
    }
   ],
   "source": [
<<<<<<< HEAD
    "await lh.dispense(plate_1[\"A1\"], vols=[300])\n"
=======
    "await lh.dispense(plate_2[\"A1\"], vols=[100])"
>>>>>>> 5bbd2fe399bda8846ff020c0106468ef7a8f6f66
   ]
  },
  {
   "cell_type": "code",
   "execution_count": 16,
   "id": "711f3290-e36d-4ae9-88a3-80374709cc36",
   "metadata": {},
   "outputs": [
    {
     "name": "stdout",
     "output_type": "stream",
     "text": [
      "Dropping tips [Drop(resource=TipSpot(name=tip_rack_1_A1, location=(014.380, 074.240, 005.390), size_x=3.698, size_y=3.698, size_z=0, category=tip_spot), offset=None, tip=Tip(has_filter=False, total_tip_length=59.3, maximal_volume=300.0, fitting_depth=7.47))].\n"
     ]
    }
   ],
   "source": [
    "await lh.return_tips()"
   ]
  },
  {
   "cell_type": "code",
   "execution_count": 17,
   "id": "eb52fd76-d92a-43b3-8550-e688eed4c587",
   "metadata": {},
   "outputs": [
    {
     "name": "stdout",
     "output_type": "stream",
     "text": [
      "Picking up tips from tip_rack_1.\n"
     ]
    }
   ],
   "source": [
    "await lh.pick_up_tips96(tip_rack_1)"
   ]
  },
  {
   "cell_type": "code",
<<<<<<< HEAD
   "execution_count": null,
   "id": "8c4b73bd-3c3f-450b-8600-7a7e07dd17e7",
   "metadata": {},
   "outputs": [],
   "source": [
    "await lh.aspirate96(plate_1, volume=100)\n"
=======
   "execution_count": 18,
   "id": "c9cbce02-0f7e-4e51-94e7-2635002d757b",
   "metadata": {},
   "outputs": [
    {
     "name": "stdout",
     "output_type": "stream",
     "text": [
      "Aspirating 100 from Plate(name=plate_1, size_x=127.76, size_y=85.47, size_z=14.22, location=(000.000, 000.000, 000.000)).\n"
     ]
    }
   ],
   "source": [
    "await lh.aspirate96(plate_1, volume=100)"
>>>>>>> 5bbd2fe399bda8846ff020c0106468ef7a8f6f66
   ]
  },
  {
   "cell_type": "code",
<<<<<<< HEAD
   "execution_count": null,
=======
   "execution_count": 19,
>>>>>>> 5bbd2fe399bda8846ff020c0106468ef7a8f6f66
   "id": "ca18de2b-92f4-43c8-a0e7-dab9aa51ec38",
   "metadata": {},
   "outputs": [
    {
     "name": "stdout",
     "output_type": "stream",
     "text": [
      "Dispensing 100 to Plate(name=plate_2, size_x=127.76, size_y=85.47, size_z=14.22, location=(132.500, 000.000, 000.000)).\n"
     ]
    }
   ],
   "source": [
    "await lh.dispense96(plate_2, volume=100)"
   ]
  },
  {
   "cell_type": "code",
   "execution_count": 21,
   "id": "12ef3847-c203-4332-84bd-6631dd90aea5",
   "metadata": {},
   "outputs": [
    {
     "name": "stdout",
     "output_type": "stream",
     "text": [
      "Dropping tips to tip_rack_1.\n"
     ]
    }
   ],
   "source": [
    "await lh.drop_tips96(tip_rack_1)\n"
   ]
  },
  {
   "cell_type": "code",
   "execution_count": 22,
   "id": "08fb2161-4fc7-4312-9864-e85a46f02bcc",
   "metadata": {},
   "outputs": [],
   "source": [
    "await vis.stop()\n"
   ]
  },
  {
   "cell_type": "code",
   "execution_count": null,
   "id": "a8525dc3-7866-4b4d-b870-8c64313bba28",
   "metadata": {},
   "outputs": [],
   "source": []
  }
 ],
 "metadata": {
  "kernelspec": {
   "display_name": "Python 3 (ipykernel)",
   "language": "python",
   "name": "python3"
  },
  "language_info": {
   "codemirror_mode": {
    "name": "ipython",
    "version": 3
   },
   "file_extension": ".py",
   "mimetype": "text/x-python",
   "name": "python",
   "nbconvert_exporter": "python",
   "pygments_lexer": "ipython3",
   "version": "3.10.4"
  }
 },
 "nbformat": 4,
 "nbformat_minor": 5
}
