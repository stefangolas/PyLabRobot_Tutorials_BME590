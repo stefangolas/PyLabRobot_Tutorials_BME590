{
 "cells": [
  {
   "cell_type": "markdown",
   "id": "baf9fb61-2fc5-446c-9c4a-18801c7d7afa",
   "metadata": {},
   "source": [
    "**Welcome to PyLabRobot!**\n",
    "\n",
    "PyLabRobot is a universal Python interface to liquid-handling robots. Liquid-handling robots aspirate and dispense precise volumes\n",
    "of liquid in a Cartesian coordinate system, essentially the same as hand pipetting.\n",
    "\n",
    "PLR defines a universal interface class called LiquidHandler that provides generic methods for controlling robots\n",
    "such as aspirate and dispense. This class can be instantiated with one of several backends (or drivers)\n",
    "that convert generic commands to machine-specific commands. This makes it easy to write code that will\n",
    "be translatable across many different machines.\n",
    "\n",
    "First we will import `LiquidHandler`, a backend called `ChatterBoxBackend` that prints the text\n",
    "output of our commands, a class `Visualizer` that provides a visualization of the robot deck as we\n",
    "run commands, and a class `STARLetDeck` that will represent the deck of a Hamilton Microlab STARLet, one of\n",
    "the most widely used liquid handling robots."
   ]
  },
  {
   "cell_type": "code",
   "execution_count": 1,
   "id": "f8bcf094-3c3a-41c4-b0e8-5d2caeee9ca9",
   "metadata": {},
   "outputs": [],
   "source": [
    "from pylabrobot.liquid_handling import LiquidHandler\n",
    "from pylabrobot.liquid_handling.backends import ChatterBoxBackend\n",
    "from pylabrobot.visualizer.visualizer import Visualizer\n",
    "from pylabrobot.resources.opentrons import OTDeck\n"
   ]
  },
  {
   "cell_type": "code",
   "execution_count": 3,
   "id": "8b372972-d6dc-454b-95eb-d9941405621b",
   "metadata": {},
   "outputs": [
    {
     "name": "stdout",
     "output_type": "stream",
     "text": [
      "Setting up the robot.\n",
      "Resource deck was assigned to the robot.\n",
      "Resource trash_container was assigned to the robot.\n"
     ]
    }
   ],
   "source": [
    "lh = LiquidHandler(backend=ChatterBoxBackend(), deck=OTDeck())\n",
    "await lh.setup()"
   ]
  },
  {
   "cell_type": "code",
   "execution_count": 3,
   "id": "0324171c-101d-4b3d-9103-a0137c620174",
   "metadata": {},
   "outputs": [
    {
     "name": "stdout",
     "output_type": "stream",
     "text": [
      "Websocket server started at http://127.0.0.1:2122\n",
      "File server started at http://127.0.0.1:1337 . Open this URL in your browser.\n"
     ]
    }
   ],
   "source": [
    "vis = Visualizer(resource=lh)\n",
    "await vis.setup()"
   ]
  },
  {
   "cell_type": "markdown",
   "id": "59b03cfb-8e42-441e-9887-e7a87453d7f7",
   "metadata": {},
   "source": [
    "Now we will import a tip carrier, a plate carrier, a plate, and a tip rack."
   ]
  },
  {
   "cell_type": "code",
   "execution_count": 5,
   "id": "7bb36402-2303-4d2e-bd3e-4e10a29e891c",
   "metadata": {},
   "outputs": [],
   "source": [
    "from pylabrobot.resources import (\n",
    "    TIP_CAR_480_A00,\n",
    "    PLT_CAR_L5AC_A00,\n",
    "    Cos_96_DW_1mL,\n",
    "    HTF_L\n",
    ")\n"
   ]
  },
  {
   "cell_type": "code",
   "execution_count": 6,
   "id": "25faa001-8f09-43af-ac2a-5b6b6b21d47a",
   "metadata": {},
   "outputs": [
    {
     "name": "stdout",
     "output_type": "stream",
     "text": [
      "Resource tip carrier was assigned to the robot.\n"
     ]
    }
   ],
   "source": [
    "tip_car = TIP_CAR_480_A00(name='tip carrier')\n",
    "tip_car[0] = tip_rack1 = HTF_L(name='tips_01', with_tips=False)\n",
    "tip_car[1] = tip_rack2 = HTF_L(name='tips_02', with_tips=False)\n",
    "tip_car[2] = tip_rack3 = HTF_L(name='tips_03', with_tips=False)\n",
    "tip_car[3] = tip_rack4 = HTF_L(name='tips_04', with_tips=False)\n",
    "tip_car[4] = tip_rack5 = HTF_L(name='tips_05', with_tips=False)\n",
    "lh.deck.assign_child_resource(tip_car, rails=15)\n"
   ]
  },
  {
   "cell_type": "code",
   "execution_count": 7,
   "id": "5e7c1218-70e9-4905-b15a-16af3259c79f",
   "metadata": {},
   "outputs": [
    {
     "name": "stdout",
     "output_type": "stream",
     "text": [
      "Resource plate carrier was assigned to the robot.\n"
     ]
    }
   ],
   "source": [
    "plt_car = PLT_CAR_L5AC_A00(name='plate carrier')\n",
    "plt_car[0] = plate_1 = Cos_96_DW_1mL(name='plate_01')\n",
    "plt_car[1] = plate_2 = Cos_96_DW_1mL(name='plate_02')\n",
    "plt_car[2] = plate_3 = Cos_96_DW_1mL(name='plate_03')\n",
    "lh.deck.assign_child_resource(plt_car, rails=8)\n"
   ]
  },
  {
   "cell_type": "code",
   "execution_count": 8,
   "id": "4421b04c-d894-4aaa-a9f4-7f51a16dc773",
   "metadata": {},
   "outputs": [],
   "source": [
    "tip_rack1.fill()\n"
   ]
  },
  {
   "cell_type": "code",
   "execution_count": null,
   "id": "74928e32-3910-434c-b0af-5bdc9c03a51e",
   "metadata": {},
   "outputs": [],
   "source": [
    "tip_rack4 = lh.deck.get_resource(\"tips_04\")\n",
    "tip_rack4.set_tip_state([[True]*6 + [False]*6]*8)\n",
    "tip_rack3.set_tip_state([[True, False]*6]*8)\n",
    "tip_rack2.set_tip_state([[True, True, False, False]*3]*8)\n"
   ]
  },
  {
   "cell_type": "code",
   "execution_count": null,
   "id": "534179d6-96aa-419f-832e-dbf6b19de0fa",
   "metadata": {},
   "outputs": [],
   "source": [
    "plate_1_liquids = [[(None, 500)]]*96\n",
    "plate_1.set_well_liquids(plate_1_liquids)\n",
    "plate_2_liquids = [[(None, 100)], [(None, 500)]]*(96//2)\n",
    "plate_2.set_well_liquids(plate_2_liquids)\n"
   ]
  },
  {
   "cell_type": "code",
   "execution_count": null,
   "id": "21e6aa85-cbe1-4c8e-bbe7-1e33eaccdc20",
   "metadata": {},
   "outputs": [],
   "source": [
    "from pylabrobot.resources import set_tip_tracking, set_volume_tracking\n",
    "set_tip_tracking(True), set_volume_tracking(True)\n"
   ]
  },
  {
   "cell_type": "code",
   "execution_count": null,
   "id": "7eda3c13-e750-4823-8327-5e5baba6ac2d",
   "metadata": {},
   "outputs": [],
   "source": [
    "await lh.pick_up_tips(tip_rack1[\"A1\", \"B2\", \"C3\", \"D4\"])\n",
    "await lh.drop_tips(tip_rack1[\"A1\", \"B2\", \"C3\", \"D4\"])\n"
   ]
  },
  {
   "cell_type": "code",
   "execution_count": null,
   "id": "464f5dd7-8d85-407b-b4d6-693340f90c5e",
   "metadata": {},
   "outputs": [],
   "source": [
    "await lh.pick_up_tips(tip_rack1[\"A1\"])\n"
   ]
  },
  {
   "cell_type": "code",
   "execution_count": null,
   "id": "1e4c9bb2-58e9-4c4d-a9d4-fa65db824f20",
   "metadata": {},
   "outputs": [],
   "source": [
    "await lh.aspirate(plate_1[\"A1\"], vols=[300])\n"
   ]
  },
  {
   "cell_type": "code",
   "execution_count": null,
   "id": "ce90182d-607b-4e93-bc9a-1d7dfef80e66",
   "metadata": {},
   "outputs": [],
   "source": [
    "await lh.dispense(plate_1[\"A1\"], vols=[300])\n"
   ]
  },
  {
   "cell_type": "code",
   "execution_count": null,
   "id": "711f3290-e36d-4ae9-88a3-80374709cc36",
   "metadata": {},
   "outputs": [],
   "source": [
    "await lh.return_tips()\n"
   ]
  },
  {
   "cell_type": "code",
   "execution_count": null,
   "id": "eb52fd76-d92a-43b3-8550-e688eed4c587",
   "metadata": {},
   "outputs": [],
   "source": [
    "await lh.pick_up_tips96(tip_rack1)\n"
   ]
  },
  {
   "cell_type": "code",
   "execution_count": null,
   "id": "8c4b73bd-3c3f-450b-8600-7a7e07dd17e7",
   "metadata": {},
   "outputs": [],
   "source": [
    "await lh.aspirate96(plate_1, volume=100)\n"
   ]
  },
  {
   "cell_type": "code",
   "execution_count": null,
   "id": "ca18de2b-92f4-43c8-a0e7-dab9aa51ec38",
   "metadata": {},
   "outputs": [],
   "source": [
    "await lh.dispense96(plate_3, volume=100)\n"
   ]
  },
  {
   "cell_type": "code",
   "execution_count": null,
   "id": "12ef3847-c203-4332-84bd-6631dd90aea5",
   "metadata": {},
   "outputs": [],
   "source": [
    "await lh.drop_tips96(tip_rack1)\n"
   ]
  },
  {
   "cell_type": "code",
   "execution_count": null,
   "id": "08fb2161-4fc7-4312-9864-e85a46f02bcc",
   "metadata": {},
   "outputs": [],
   "source": [
    "await vis.stop()\n"
   ]
  }
 ],
 "metadata": {
  "kernelspec": {
   "display_name": "Python 3 (ipykernel)",
   "language": "python",
   "name": "python3"
  },
  "language_info": {
   "codemirror_mode": {
    "name": "ipython",
    "version": 3
   },
   "file_extension": ".py",
   "mimetype": "text/x-python",
   "name": "python",
   "nbconvert_exporter": "python",
   "pygments_lexer": "ipython3",
   "version": "3.11.0"
  }
 },
 "nbformat": 4,
 "nbformat_minor": 5
}
