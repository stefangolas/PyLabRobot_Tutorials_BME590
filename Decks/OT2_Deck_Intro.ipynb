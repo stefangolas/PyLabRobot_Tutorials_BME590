{
 "cells": [
  {
   "cell_type": "markdown",
   "id": "8dbbadf0-ac05-44a6-a303-e7e71691ed9a",
   "metadata": {},
   "source": [
    "# Intro to Decks: OT2\n",
    "### In this tutorial, you will see how to instantiate an OT2 Deck, how to add labware, and how to move liquids around.\n",
    "\n",
    "First we will import `LiquidHandler`, a backend called `ChatterBoxBackend` that prints the text\n",
    "output of our commands, a class `Visualizer` that provides a visualization of the robot deck as we\n",
    "run commands, and a class `OTDeck` that will represent the deck of an OpenTrons OT2, one of\n",
    "the most widely used liquid handling robots. \n",
    "\n",
    "Make sure to also `import opentrons` !"
   ]
  },
  {
   "cell_type": "markdown",
   "id": "0b6ee87a-a089-4a5b-9b60-852d1e1f8874",
   "metadata": {},
   "source": [
    "### Imports"
   ]
  },
  {
   "cell_type": "code",
   "execution_count": 1,
   "id": "63636707-3e3c-4aba-b8eb-1e702875d391",
   "metadata": {},
   "outputs": [],
   "source": [
    "from pylabrobot.liquid_handling import LiquidHandler\n",
    "from pylabrobot.liquid_handling.backends import ChatterBoxBackend\n",
    "from pylabrobot.visualizer.visualizer import Visualizer\n",
    "from pylabrobot.resources.opentrons import OTDeck\n",
    "\n",
    "from pylabrobot.resources.opentrons.load import *\n",
    "from pylabrobot.resources.opentrons.plates import *\n",
    "\n",
    "import opentrons"
   ]
  },
  {
   "cell_type": "markdown",
   "id": "10bcab3e-f908-479a-8e63-1fecfbe9ecf7",
   "metadata": {},
   "source": [
    "### Setting up the Deck and Visualizer"
   ]
  },
  {
   "cell_type": "markdown",
   "id": "7a612e7b-d246-4c75-874c-1b053ab2aeda",
   "metadata": {},
   "source": [
    "First, we will create an instance of the `LiquidHandler` class. This may take some time to set up, so we run the `setup()` function with the `await` keyword."
   ]
  },
  {
   "cell_type": "code",
   "execution_count": 2,
   "id": "cb5eb1ee-a1ae-4fd3-afff-78967d6e9f95",
   "metadata": {},
   "outputs": [
    {
     "name": "stdout",
     "output_type": "stream",
     "text": [
      "Setting up the robot.\n",
      "Resource deck was assigned to the robot.\n",
      "Resource trash_container was assigned to the robot.\n"
     ]
    }
   ],
   "source": [
    "lh = LiquidHandler(backend=ChatterBoxBackend(), deck=OTDeck())\n",
    "\n",
    "await lh.setup()"
   ]
  },
  {
   "cell_type": "markdown",
   "id": "c044f917-ae75-4e17-80e1-7ad0f13b64cc",
   "metadata": {},
   "source": [
    "After initializing our `LiquidHandler`, we want to create an instance of a `Visualizer`. This will allow you to see the Deck and follow your protocol in real time. You can see how tips and liquids move as you run commands. Make sure to open the `Visualizer` in another window."
   ]
  },
  {
   "cell_type": "code",
   "execution_count": 3,
   "id": "9ce8270d-91ed-4836-a742-ab5375c4fdaa",
   "metadata": {},
   "outputs": [
    {
     "name": "stdout",
     "output_type": "stream",
     "text": [
      "Websocket server started at http://127.0.0.1:2122\n",
      "File server started at http://127.0.0.1:1338 . Open this URL in your browser.\n"
     ]
    }
   ],
   "source": [
    "vis = Visualizer(resource=lh)\n",
    "await vis.setup()"
   ]
  },
  {
   "cell_type": "markdown",
   "id": "70c070bd-f7fd-47c4-9c98-65674fa776fc",
   "metadata": {},
   "source": [
    "### Adding Labware to the Deck"
   ]
  },
  {
   "cell_type": "markdown",
   "id": "4d0024ee-4722-4b99-afad-3bba67388855",
   "metadata": {},
   "source": [
    "Now, we are ready to add some labware to the deck. PyLabRobot has many different labware items already defined. Only import the ones that you need for your protocol. A full list of labware can be found in `PyLabRobot\\Resources\\opentrons`. You can also create custom labware, but that is out of scope for this tutorial.\n",
    "\n",
    "Let's begin by importing a `TubeRack`, a `TipRack`, and a `Plate`.\n",
    "<details>\n",
    "    <summary>Definitions of Labware:</summary>\n",
    "    \n",
    "* **TubeRack** = Used to hold various tubes, commonly the 2mL Eppendorfs.\n",
    "\n",
    "* **TipRack** = Labware that holds pipette tips.\n",
    "\n",
    "* **Plate** = Well-Plate that one can add liquids to.\n",
    "</details>"
   ]
  },
  {
   "cell_type": "code",
   "execution_count": 4,
   "id": "71889711-e068-4e7e-b158-128a9491a1a0",
   "metadata": {},
   "outputs": [],
   "source": [
    "from pylabrobot.resources import (\n",
    "    opentrons_24_tuberack_eppendorf_2ml_safelock_snapcap,\n",
    "    opentrons_96_tiprack_300ul,\n",
    "    corning_96_wellplate_360ul_flat\n",
    ")"
   ]
  },
  {
   "cell_type": "markdown",
   "id": "fae79fcb-7dbb-4145-a03a-eef0da7d6e38",
   "metadata": {},
   "source": [
    "**Note:** The OT2 has **11 spots** for labware. It also has a built in trash can for discarding tips.\n",
    "\n",
    "One thing to keep in mind when designing a protocol is `layout efficiency`. The more separated labware is on the deck, the longer your protocol will be because the pipette has to travel farther.\n",
    "\n",
    "In general, you want to keep your tip racks in the back, your stocks in the middle, and then finally your plates in the front. This allows for `linear movement`.\n",
    "\n",
    "For example, the arm grabs a **tip from slot 7**, aspirates **stock from slot 4**, and then finally **dispenses in slot 1**. Reducing the travel time of the pipette will decrease the runtime of your protocol.\n",
    "\n",
    "To place labware on the Deck, call `assign_child_at_slot()`. Pass in the labware you want to place along with the slot you want to place it in."
   ]
  },
  {
   "cell_type": "code",
   "execution_count": 5,
   "id": "c4c43470-21ff-4b3f-9a36-cdc3c0d97403",
   "metadata": {},
   "outputs": [
    {
     "name": "stdout",
     "output_type": "stream",
     "text": [
      "Resource tip_rack was assigned to the robot.\n"
     ]
    }
   ],
   "source": [
    "# When you instantiate a labware, give it a name that will show when you\n",
    "# mouse over it in the visualizer.\n",
    "tip_rack = opentrons_96_tiprack_300ul(\"tip_rack\")\n",
    "\n",
    "lh.deck.assign_child_at_slot(tip_rack, 7)"
   ]
  },
  {
   "cell_type": "code",
   "execution_count": 6,
   "id": "3740eb57-80bd-498b-95d5-725b9487c196",
   "metadata": {},
   "outputs": [
    {
     "name": "stdout",
     "output_type": "stream",
     "text": [
      "Resource tube_rack was assigned to the robot.\n"
     ]
    }
   ],
   "source": [
    "# Stock Solution Tube Rack\n",
    "tube_rack = opentrons_24_tuberack_eppendorf_2ml_safelock_snapcap(\"tube_rack\")\n",
    "\n",
    "lh.deck.assign_child_at_slot(tube_rack, 4)"
   ]
  },
  {
   "cell_type": "code",
   "execution_count": 7,
   "id": "fd6a17ea-b41e-4033-a914-81b2d87635b9",
   "metadata": {},
   "outputs": [
    {
     "name": "stdout",
     "output_type": "stream",
     "text": [
      "Resource prep_plate was assigned to the robot.\n"
     ]
    }
   ],
   "source": [
    "# Plate for Sample Preparation\n",
    "plate = corning_96_wellplate_360ul_flat(\"prep_plate\")\n",
    "\n",
    "lh.deck.assign_child_at_slot(plate, 1)"
   ]
  },
  {
   "cell_type": "markdown",
   "id": "b7c49e37-543c-49b5-86f0-5c9df9bdd5a1",
   "metadata": {},
   "source": [
    "### Adding Liquids to the Deck"
   ]
  },
  {
   "cell_type": "markdown",
   "id": "b757ebe8-be14-48af-bda6-f377a8769d0b",
   "metadata": {},
   "source": [
    "Let's add some liquids to our `tube_rack`. We can add up to the `max_volume` of the tube. If you go over this number, PyLabRobot will throw an error. We shall add 1000µL of 4 different dyes to the first column of our `tube_rack`. This corresponds to wells *A1, B1, C1, and D1*.\n",
    "\n",
    "To iterate over locations on labware, we use the `traverse()` function. This produces a generator object that we use the `next` keyword on to yield our desired wells.\n",
    "\n",
    "`traverse()` takes in two arguments: **batch_size** is the amount of wells to return, and **direction** is how to iterate over the wells. In our case, we use `\"down\"` to return the wells column wise.\n",
    "\n",
    "<details>\n",
    "    <summary>More info on <b>direction:</summary>\n",
    "\n",
    "* `\"down\"`, `\"snake_down\"`, `\"right\"`, and `\"snake_right\"` start at the top left item **(A1)**.\n",
    "        \n",
    "* `\"up\"` and `\"snake_up\"` start at the bottom left **(H1)**.\n",
    "    \n",
    "* `\"left\"` and `\"snake_left\"` start at the top right **(A12)**.\n",
    "\n",
    "* The `snake` directions alternate between going in the given direction and going in the opposite direction. For example, `\"snake_down\"` will go from A1 to H1, then H2 to A2, then A3 to H3, etc.\n",
    "</details>"
   ]
  },
  {
   "cell_type": "code",
   "execution_count": 8,
   "id": "aca186f8-922b-4226-89ef-e6cfe886b512",
   "metadata": {},
   "outputs": [
    {
     "data": {
      "text/plain": [
       "[Tube(name=tube_rack_A1, location=(018.210, 075.430, 041.270), size_x=6.223, size_y=6.223, size_z=39.1, category=tube),\n",
       " Tube(name=tube_rack_B1, location=(018.210, 056.150, 041.270), size_x=6.223, size_y=6.223, size_z=39.1, category=tube),\n",
       " Tube(name=tube_rack_C1, location=(018.210, 036.870, 041.270), size_x=6.223, size_y=6.223, size_z=39.1, category=tube),\n",
       " Tube(name=tube_rack_D1, location=(018.210, 017.590, 041.270), size_x=6.223, size_y=6.223, size_z=39.1, category=tube)]"
      ]
     },
     "execution_count": 8,
     "metadata": {},
     "output_type": "execute_result"
    }
   ],
   "source": [
    "first_col_tubes = next(tube_rack.traverse(batch_size=4, direction='down'))\n",
    "first_col_tubes"
   ]
  },
  {
   "cell_type": "markdown",
   "id": "88f4e079-81e1-441c-923c-63e2a8b1cfb7",
   "metadata": {},
   "source": [
    "Use the `tracker.add_liquid()` function to put liquid in a `tube`. The `tracker` class contains all of the methods associated with keeping record of how much/what kind of liquid is in a given container.\n",
    "\n",
    "Pass in a string for **\"Liquid_Type\"** and a number for **Volume** to this function.\n",
    "\n",
    "Let's add our dyes to the tubes in `first_col_tubes`."
   ]
  },
  {
   "cell_type": "code",
   "execution_count": 9,
   "id": "876af18c-fdde-4a78-8261-b9a61c580988",
   "metadata": {},
   "outputs": [],
   "source": [
    "for i in range(len(first_col_tubes)):\n",
    "    \n",
    "    first_col_tubes[i].tracker.add_liquid(f\"Dye_{i}\", 1000)\n",
    "    \n",
    "    #Commit the change\n",
    "    first_col_tubes[i].tracker.commit()"
   ]
  },
  {
   "cell_type": "markdown",
   "id": "1e0137ea-bd0f-4a8f-9785-3b7aafe5c7dd",
   "metadata": {},
   "source": [
    "Here's a Utility function for printing all of the filled spots of a `TubeRack`."
   ]
  },
  {
   "cell_type": "code",
   "execution_count": 10,
   "id": "ee999023-9b95-41b0-90c4-4e05bc65d629",
   "metadata": {},
   "outputs": [],
   "source": [
    "def print_filled_spots_of_tubeRack(tube_rack):\n",
    "\n",
    "    all_tubes = tube_rack.get_all_children()\n",
    "\n",
    "    all_empty = True\n",
    "    \n",
    "    for tube in all_tubes:\n",
    "    \n",
    "        liquid = tube.tracker.liquids\n",
    "\n",
    "        if liquid != []:\n",
    "            print(f\"Spot {tube.name.split('_')[-1]} contains:\")\n",
    "\n",
    "            name = liquid[0][0]\n",
    "            vol = liquid[0][1]\n",
    "        \n",
    "            print(f\"{vol}uL of {name}\")\n",
    "\n",
    "            all_empty = False\n",
    "\n",
    "    if all_empty:\n",
    "        print(\"Entire rack is empty!\")"
   ]
  },
  {
   "cell_type": "code",
   "execution_count": 11,
   "id": "1832d167-395f-44fe-911b-1584b9a71281",
   "metadata": {},
   "outputs": [
    {
     "name": "stdout",
     "output_type": "stream",
     "text": [
      "Spot A1 contains:\n",
      "1000uL of Dye_0\n",
      "Spot B1 contains:\n",
      "1000uL of Dye_1\n",
      "Spot C1 contains:\n",
      "1000uL of Dye_2\n",
      "Spot D1 contains:\n",
      "1000uL of Dye_3\n"
     ]
    }
   ],
   "source": [
    "print_filled_spots_of_tubeRack(tube_rack)"
   ]
  },
  {
   "cell_type": "markdown",
   "id": "ffceed8a-b9c4-4824-85e4-2676957811f6",
   "metadata": {},
   "source": [
    "### Moving Liquids from Point A to Point B"
   ]
  },
  {
   "cell_type": "markdown",
   "id": "622baa5b-0e60-47cb-aa03-aeb3982d3519",
   "metadata": {},
   "source": [
    "Why is it not updating the contents of the tubes correctly?? The animations are also broken now."
   ]
  },
  {
   "cell_type": "code",
   "execution_count": 12,
   "id": "d93e6576-a5d8-43fe-b8aa-3c48b4514a0d",
   "metadata": {},
   "outputs": [],
   "source": [
    "import time"
   ]
  },
  {
   "cell_type": "code",
   "execution_count": 13,
   "id": "0e85d828-b3f5-4ad2-9e87-56ccd985720f",
   "metadata": {},
   "outputs": [
    {
     "ename": "RuntimeError",
     "evalue": "No tips have been picked up.",
     "output_type": "error",
     "traceback": [
      "\u001b[0;31m---------------------------------------------------------------------------\u001b[0m",
      "\u001b[0;31mRuntimeError\u001b[0m                              Traceback (most recent call last)",
      "\u001b[0;32m/tmp/ipykernel_6667/2886996634.py\u001b[0m in \u001b[0;36m<module>\u001b[0;34m\u001b[0m\n\u001b[0;32m----> 1\u001b[0;31m \u001b[0;32mawait\u001b[0m \u001b[0mlh\u001b[0m\u001b[0;34m.\u001b[0m\u001b[0mreturn_tips\u001b[0m\u001b[0;34m(\u001b[0m\u001b[0;34m)\u001b[0m\u001b[0;34m\u001b[0m\u001b[0;34m\u001b[0m\u001b[0m\n\u001b[0m",
      "\u001b[0;32m/mnt/d/Chory Lab/PyLabRobot/pylabrobot/liquid_handling/liquid_handler.py\u001b[0m in \u001b[0;36mreturn_tips\u001b[0;34m(self, use_channels, **backend_kwargs)\u001b[0m\n\u001b[1;32m    557\u001b[0m \u001b[0;34m\u001b[0m\u001b[0m\n\u001b[1;32m    558\u001b[0m     \u001b[0;32mif\u001b[0m \u001b[0mlen\u001b[0m\u001b[0;34m(\u001b[0m\u001b[0mtip_spots\u001b[0m\u001b[0;34m)\u001b[0m \u001b[0;34m==\u001b[0m \u001b[0;36m0\u001b[0m\u001b[0;34m:\u001b[0m\u001b[0;34m\u001b[0m\u001b[0;34m\u001b[0m\u001b[0m\n\u001b[0;32m--> 559\u001b[0;31m       \u001b[0;32mraise\u001b[0m \u001b[0mRuntimeError\u001b[0m\u001b[0;34m(\u001b[0m\u001b[0;34m\"No tips have been picked up.\"\u001b[0m\u001b[0;34m)\u001b[0m\u001b[0;34m\u001b[0m\u001b[0;34m\u001b[0m\u001b[0m\n\u001b[0m\u001b[1;32m    560\u001b[0m \u001b[0;34m\u001b[0m\u001b[0m\n\u001b[1;32m    561\u001b[0m     \u001b[0;32mreturn\u001b[0m \u001b[0;32mawait\u001b[0m \u001b[0mself\u001b[0m\u001b[0;34m.\u001b[0m\u001b[0mdrop_tips\u001b[0m\u001b[0;34m(\u001b[0m\u001b[0mtip_spots\u001b[0m\u001b[0;34m=\u001b[0m\u001b[0mtip_spots\u001b[0m\u001b[0;34m,\u001b[0m \u001b[0muse_channels\u001b[0m\u001b[0;34m=\u001b[0m\u001b[0mchannels\u001b[0m\u001b[0;34m,\u001b[0m \u001b[0;34m**\u001b[0m\u001b[0mbackend_kwargs\u001b[0m\u001b[0;34m)\u001b[0m\u001b[0;34m\u001b[0m\u001b[0;34m\u001b[0m\u001b[0m\n",
      "\u001b[0;31mRuntimeError\u001b[0m: No tips have been picked up."
     ]
    }
   ],
   "source": [
    "await lh.return_tips()"
   ]
  },
  {
   "cell_type": "code",
   "execution_count": 37,
   "id": "5f55c2d7-6e9c-4190-a1d7-ef65e7a93915",
   "metadata": {},
   "outputs": [
    {
     "name": "stdout",
     "output_type": "stream",
     "text": [
      "Picking up tips [Pickup(resource=TipSpot(name=tip_rack_A1, location=(014.380, 074.240, 005.390), size_x=3.698, size_y=3.698, size_z=0, category=tip_spot), offset=None, tip=Tip(has_filter=False, total_tip_length=59.3, maximal_volume=300.0, fitting_depth=7.47))].\n",
      "Aspirating [Aspiration(resource=Tube(name=tube_rack_A1, location=(018.210, 075.430, 041.270), size_x=6.223, size_y=6.223, size_z=39.1, category=tube), offset=None, tip=Tip(has_filter=False, total_tip_length=59.3, maximal_volume=300.0, fitting_depth=7.47), volume=100, flow_rate=None, liquid_height=None, blow_out_air_volume=None, liquids=[(None, 100)])].\n",
      "Dispensing [Dispense(resource=Well(name=prep_plate_A1, location=(014.380, 074.240, 003.550), size_x=4.851, size_y=4.851, size_z=10.67, category=well), offset=None, tip=Tip(has_filter=False, total_tip_length=59.3, maximal_volume=300.0, fitting_depth=7.47), volume=100, flow_rate=None, liquid_height=None, blow_out_air_volume=None, liquids=[(None, 100)])].\n",
      "Dropping tips [Drop(resource=TipSpot(name=tip_rack_A1, location=(014.380, 074.240, 005.390), size_x=3.698, size_y=3.698, size_z=0, category=tip_spot), offset=None, tip=Tip(has_filter=False, total_tip_length=59.3, maximal_volume=300.0, fitting_depth=7.47))].\n"
     ]
    }
   ],
   "source": [
    "await lh.pick_up_tips(tip_rack[\"A1\"])\n",
    "time.sleep(2)\n",
    "\n",
    "await lh.aspirate(tube_rack[\"A1\"], vols=[100])\n",
    "tube_rack[\"A1\"][0].tracker.commit()\n",
    "time.sleep(2)\n",
    "\n",
    "await lh.dispense(plate[\"A1\"], vols=[100])\n",
    "plate[\"A1\"][0].tracker.commit()\n",
    "time.sleep(2)\n",
    "\n",
    "await lh.return_tips()"
   ]
  },
  {
   "cell_type": "code",
   "execution_count": 34,
   "id": "e402336b-ff23-4205-81ee-d16e967ad017",
   "metadata": {},
   "outputs": [
    {
     "data": {
      "text/plain": [
       "[Tube(name=tube_rack_A1, location=(018.210, 075.430, 041.270), size_x=6.223, size_y=6.223, size_z=39.1, category=tube)]"
      ]
     },
     "execution_count": 34,
     "metadata": {},
     "output_type": "execute_result"
    }
   ],
   "source": [
    "tube_rack[\"A1\"]"
   ]
  },
  {
   "cell_type": "code",
   "execution_count": 38,
   "id": "e51ed207-74e3-4ad1-9aa4-7a79ece40016",
   "metadata": {},
   "outputs": [
    {
     "name": "stdout",
     "output_type": "stream",
     "text": [
      "Spot A1 contains:\n",
      "1000uL of Dye_0\n",
      "Spot B1 contains:\n",
      "1000uL of Dye_1\n",
      "Spot C1 contains:\n",
      "1000uL of Dye_2\n",
      "Spot D1 contains:\n",
      "1000uL of Dye_3\n"
     ]
    }
   ],
   "source": [
    "print_filled_spots_of_tubeRack(tube_rack)"
   ]
  },
  {
   "cell_type": "code",
   "execution_count": 32,
   "id": "f64ffbc0-7d55-4f43-9083-4ecd147c5193",
   "metadata": {},
   "outputs": [
    {
     "data": {
      "text/plain": [
       "[('Dye_0', 1000)]"
      ]
     },
     "execution_count": 32,
     "metadata": {},
     "output_type": "execute_result"
    }
   ],
   "source": [
    "tube_rack[0][0].tracker.liquids"
   ]
  },
  {
   "cell_type": "code",
   "execution_count": null,
   "id": "7ac2d2e3-dfb0-4d5f-8aee-8769cfd804f1",
   "metadata": {},
   "outputs": [],
   "source": [
    "await lh.pick_up_tips(tip_rack[\"A1\"])\n",
    "time.sleep(1)\n",
    "\n",
    "await lh.aspirate(plate[\"A1\"], vols=[100])\n",
    "time.sleep(1)\n",
    "\n",
    "await lh.dispense(tube_rack[\"A1\"], vols=[100])\n",
    "time.sleep(1)\n",
    "\n",
    "await lh.return_tips()"
   ]
  },
  {
   "cell_type": "markdown",
   "id": "29adc390-9c6f-49c5-9112-5cdb7ce7b7a1",
   "metadata": {
    "jp-MarkdownHeadingCollapsed": true
   },
   "source": [
    "### For future reference, how to export states of labware as .json files"
   ]
  },
  {
   "cell_type": "code",
   "execution_count": 16,
   "id": "22fab8bb-af21-4f79-982e-ca46a11df867",
   "metadata": {},
   "outputs": [
    {
     "data": {
      "text/plain": [
       "' Save the state of this resource and all children to a JSON file.\\n\\n    Args:\\n      fn: File name. Caution: file will be overwritten.\\n      indent: Same as `json.dump`\\'s `indent` argument (for json pretty printing).\\n\\n    Examples:\\n      Saving to a json file:\\n\\n      >>> deck.save_state_to_file(\"my_state.json\")\\n'"
      ]
     },
     "execution_count": 16,
     "metadata": {},
     "output_type": "execute_result"
    }
   ],
   "source": [
    "\"\"\" Save the state of this resource and all children to a JSON file.\n",
    "\n",
    "    Args:\n",
    "      fn: File name. Caution: file will be overwritten.\n",
    "      indent: Same as `json.dump`'s `indent` argument (for json pretty printing).\n",
    "\n",
    "    Examples:\n",
    "      Saving to a json file:\n",
    "\n",
    "      >>> deck.save_state_to_file(\"my_state.json\")\n",
    "\"\"\"\n"
   ]
  },
  {
   "cell_type": "code",
   "execution_count": null,
   "id": "b9d2169c-1e13-4abd-8095-6844b856d84e",
   "metadata": {},
   "outputs": [],
   "source": []
  }
 ],
 "metadata": {
  "kernelspec": {
   "display_name": "Python 3 (ipykernel)",
   "language": "python",
   "name": "python3"
  },
  "language_info": {
   "codemirror_mode": {
    "name": "ipython",
    "version": 3
   },
   "file_extension": ".py",
   "mimetype": "text/x-python",
   "name": "python",
   "nbconvert_exporter": "python",
   "pygments_lexer": "ipython3",
   "version": "3.10.4"
  }
 },
 "nbformat": 4,
 "nbformat_minor": 5
}
