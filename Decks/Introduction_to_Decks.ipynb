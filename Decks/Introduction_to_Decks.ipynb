{
 "cells": [
  {
   "cell_type": "markdown",
   "id": "baf9fb61-2fc5-446c-9c4a-18801c7d7afa",
   "metadata": {},
   "source": [
    "**Introduction to Decks**\n",
    "\n",
    "It's very convenient to be able to use references to standardized labware such as reagent containers to parameterize liquid-handling commands. Robots generally only accept Cartesian coordinates for command parameters, so we need to be able to translate to these from labware references.\n",
    "\n",
    "PyLabRobot uses a recursive tree model to track the locations of labware and other resources. Every resource is a node in a tree where its child nodes are also resources whose positions in 3D space are defined with respect to their parent. This allows us to easily move a resource such as a `Plate` and have all of the object's children (`Wells`) be moved likewise. The root of a\n",
    "tree for a single robot is the robot deck."
   ]
  },
  {
   "cell_type": "code",
   "execution_count": 1,
   "id": "f8bcf094-3c3a-41c4-b0e8-5d2caeee9ca9",
   "metadata": {},
   "outputs": [],
   "source": [
    "from pylabrobot.liquid_handling import LiquidHandler\n",
    "from pylabrobot.liquid_handling.backends import ChatterBoxBackend\n",
    "from pylabrobot.visualizer.visualizer import Visualizer\n",
    "from pylabrobot.resources.hamilton import STARLetDeck\n"
   ]
  },
  {
   "cell_type": "markdown",
   "id": "16d7eff2-ed91-4d3d-995e-cf59ce1ea57b",
   "metadata": {},
   "source": [
    "Note that we instantiate `LiquidHandler` with a deck, and that the deck is a property of `LiquidHandler`."
   ]
  },
  {
   "cell_type": "code",
   "execution_count": 2,
   "id": "8b372972-d6dc-454b-95eb-d9941405621b",
   "metadata": {},
   "outputs": [
    {
     "name": "stdout",
     "output_type": "stream",
     "text": [
      "Setting up the robot.\n",
      "Resource deck was assigned to the robot.\n",
      "Resource trash was assigned to the robot.\n",
      "Resource trash_core96 was assigned to the robot.\n",
      "Websocket server started at http://127.0.0.1:2121\n",
      "File server started at http://127.0.0.1:1337 . Open this URL in your browser.\n"
     ]
    }
   ],
   "source": [
    "lh = LiquidHandler(backend=ChatterBoxBackend(), deck=STARLetDeck())\n",
    "await lh.setup()\n",
    "\n",
    "vis = Visualizer(resource=lh)\n",
    "await vis.setup()"
   ]
  },
  {
   "cell_type": "markdown",
   "id": "59b03cfb-8e42-441e-9887-e7a87453d7f7",
   "metadata": {},
   "source": [
    "Now we will import a tip carrier, a plate carrier, a plate, a tip rack, and a reagent reservoir."
   ]
  },
  {
   "cell_type": "code",
   "execution_count": 3,
   "id": "7bb36402-2303-4d2e-bd3e-4e10a29e891c",
   "metadata": {},
   "outputs": [],
   "source": [
    "from pylabrobot.resources import (\n",
    "    TIP_CAR_480_A00,\n",
    "    PLT_CAR_L5AC_A00,\n",
    "    Cos_384_PCR,\n",
    "    VWRReagentReservoirs25mL,\n",
    "    HTF_L,\n",
    "    Coordinate\n",
    ")\n"
   ]
  },
  {
   "cell_type": "code",
   "execution_count": 4,
   "id": "7b9ad5c7-f38b-4898-9207-defb926f116e",
   "metadata": {},
   "outputs": [
    {
     "data": {
      "text/plain": [
       "[Trash(name=trash, location=(800.000, 190.600, 137.100), size_x=0, size_y=241.2, size_z=0, category=None),\n",
       " Trash(name=trash_core96, location=(-232.100, 110.300, 189.000), size_x=82.6, size_y=122.4, size_z=0, category=None)]"
      ]
     },
     "execution_count": 4,
     "metadata": {},
     "output_type": "execute_result"
    }
   ],
   "source": [
    "lh.deck.children"
   ]
  },
  {
   "cell_type": "code",
   "execution_count": 5,
   "id": "e5ff4866-3781-42b3-bda4-2ea6d8ee351e",
   "metadata": {},
   "outputs": [],
   "source": [
    "plate_1 = Cos_384_PCR(name = 'plate_1')\n",
    "trough = VWRReagentReservoirs25mL(name = 'trough')\n",
    "plt_car = PLT_CAR_L5AC_A00(name='plate carrier')"
   ]
  },
  {
   "cell_type": "code",
   "execution_count": 6,
   "id": "6465a4fc-aef2-432f-9975-a96e5e9ced8e",
   "metadata": {},
   "outputs": [
    {
     "name": "stdout",
     "output_type": "stream",
     "text": [
      "Resource trough was assigned to the robot.\n"
     ]
    }
   ],
   "source": [
    "lh.deck.assign_child_resource(trough, location = Coordinate(200, 200, 100))"
   ]
  },
  {
   "cell_type": "code",
   "execution_count": 7,
   "id": "e701921a-3c68-4bd6-ba0f-9e1ff0c0299e",
   "metadata": {},
   "outputs": [
    {
     "name": "stdout",
     "output_type": "stream",
     "text": [
      "Resource trough was unassigned from the robot.\n",
      "Resource trough was assigned to the robot.\n"
     ]
    }
   ],
   "source": [
    "lh.deck.unassign_child_resource(trough)\n",
    "lh.deck.assign_child_resource(trough, location = Coordinate(100, 100, 100))"
   ]
  },
  {
   "cell_type": "code",
   "execution_count": 8,
   "id": "5e7c1218-70e9-4905-b15a-16af3259c79f",
   "metadata": {},
   "outputs": [],
   "source": [
    "plt_car = PLT_CAR_L5AC_A00(name='plate carrier')\n"
   ]
  },
  {
   "cell_type": "code",
   "execution_count": 34,
   "id": "5def7c37-71ab-4a52-9204-7bbd6c583d7a",
   "metadata": {},
   "outputs": [
    {
     "name": "stdout",
     "output_type": "stream",
     "text": [
      "Resource plate carrier was assigned to the robot.\n"
     ]
    }
   ],
   "source": [
    "lh.deck.assign_child_resource(plt_car, rails = 8)"
   ]
  },
  {
   "cell_type": "code",
   "execution_count": null,
   "id": "e8d32e15-3d86-4852-8e5e-516d2add0497",
   "metadata": {},
   "outputs": [],
   "source": [
    "plt_car[0].assign_child_resource(plate_1)"
   ]
  },
  {
   "cell_type": "code",
   "execution_count": 35,
   "id": "a8f05b07-2524-4913-9d18-93d3d96cd6c4",
   "metadata": {},
   "outputs": [
    {
     "data": {
      "text/plain": [
       "Coordinate(x=261.5, y=71.5, z=186.15)"
      ]
     },
     "execution_count": 35,
     "metadata": {},
     "output_type": "execute_result"
    }
   ],
   "source": [
    "plate_1.get_absolute_location()"
   ]
  },
  {
   "cell_type": "code",
   "execution_count": 33,
   "id": "90587cc7-5b46-4f6e-b066-a7d975436e25",
   "metadata": {},
   "outputs": [
    {
     "name": "stdout",
     "output_type": "stream",
     "text": [
      "Resource plate carrier was unassigned from the robot.\n"
     ]
    }
   ],
   "source": [
    "lh.deck.unassign_child_resource(plt_car)\n"
   ]
  },
  {
   "cell_type": "code",
   "execution_count": 31,
   "id": "f7064ea3-7112-45e6-b07e-853f5e6f5b76",
   "metadata": {},
   "outputs": [
    {
     "name": "stdout",
     "output_type": "stream",
     "text": [
      "Resource plate carrier was assigned to the robot.\n"
     ]
    }
   ],
   "source": [
    "lh.deck.assign_child_resource(plt_car, rails = 10)"
   ]
  },
  {
   "cell_type": "code",
   "execution_count": 36,
   "id": "1a4bca92-3626-4498-8724-ea36e64671d9",
   "metadata": {},
   "outputs": [
    {
     "data": {
      "text/plain": [
       "Coordinate(x=261.5, y=71.5, z=186.15)"
      ]
     },
     "execution_count": 36,
     "metadata": {},
     "output_type": "execute_result"
    }
   ],
   "source": [
    "plate_1.get_absolute_location()"
   ]
  },
  {
   "cell_type": "code",
   "execution_count": 41,
   "id": "37c50235-d8f0-4532-b812-5f8660e1298f",
   "metadata": {},
   "outputs": [],
   "source": [
    "lh.deck.save(\"starter_deck.json\")"
   ]
  },
  {
   "cell_type": "code",
   "execution_count": 43,
   "id": "08fb2161-4fc7-4312-9864-e85a46f02bcc",
   "metadata": {},
   "outputs": [
    {
     "ename": "RuntimeError",
     "evalue": "The HTTP server has not been started yet.",
     "output_type": "error",
     "traceback": [
      "\u001b[1;31m---------------------------------------------------------------------------\u001b[0m",
      "\u001b[1;31mRuntimeError\u001b[0m                              Traceback (most recent call last)",
      "Cell \u001b[1;32mIn[43], line 1\u001b[0m\n\u001b[1;32m----> 1\u001b[0m \u001b[38;5;28;01mawait\u001b[39;00m vis\u001b[38;5;241m.\u001b[39mstop()\n",
      "File \u001b[1;32mc:\\users\\stefa\\pylabrobot\\pylabrobot\\visualizer\\visualizer.py:382\u001b[0m, in \u001b[0;36mVisualizer.stop\u001b[1;34m(self)\u001b[0m\n\u001b[0;32m    374\u001b[0m \u001b[38;5;250m\u001b[39m\u001b[38;5;124;03m\"\"\" Stop the visualizer.\u001b[39;00m\n\u001b[0;32m    375\u001b[0m \n\u001b[0;32m    376\u001b[0m \u001b[38;5;124;03mRaises:\u001b[39;00m\n\u001b[0;32m    377\u001b[0m \u001b[38;5;124;03m  RuntimeError: If the visualizer has not been started.\u001b[39;00m\n\u001b[0;32m    378\u001b[0m \u001b[38;5;124;03m\"\"\"\u001b[39;00m\n\u001b[0;32m    380\u001b[0m \u001b[38;5;66;03m# -- file server --\u001b[39;00m\n\u001b[0;32m    381\u001b[0m \u001b[38;5;66;03m# Stop the file server.\u001b[39;00m\n\u001b[1;32m--> 382\u001b[0m \u001b[38;5;28;43mself\u001b[39;49m\u001b[38;5;241;43m.\u001b[39;49m\u001b[43mhttpd\u001b[49m\u001b[38;5;241m.\u001b[39mshutdown()\n\u001b[0;32m    383\u001b[0m \u001b[38;5;28mself\u001b[39m\u001b[38;5;241m.\u001b[39mhttpd\u001b[38;5;241m.\u001b[39mserver_close()\n\u001b[0;32m    385\u001b[0m \u001b[38;5;66;03m# Clear all relevant attributes.\u001b[39;00m\n",
      "File \u001b[1;32mc:\\users\\stefa\\pylabrobot\\pylabrobot\\visualizer\\visualizer.py:246\u001b[0m, in \u001b[0;36mVisualizer.httpd\u001b[1;34m(self)\u001b[0m\n\u001b[0;32m    244\u001b[0m \u001b[38;5;250m\u001b[39m\u001b[38;5;124;03m\"\"\" The HTTP server. \"\"\"\u001b[39;00m\n\u001b[0;32m    245\u001b[0m \u001b[38;5;28;01mif\u001b[39;00m \u001b[38;5;28mself\u001b[39m\u001b[38;5;241m.\u001b[39m_httpd \u001b[38;5;129;01mis\u001b[39;00m \u001b[38;5;28;01mNone\u001b[39;00m:\n\u001b[1;32m--> 246\u001b[0m   \u001b[38;5;28;01mraise\u001b[39;00m \u001b[38;5;167;01mRuntimeError\u001b[39;00m(\u001b[38;5;124m\"\u001b[39m\u001b[38;5;124mThe HTTP server has not been started yet.\u001b[39m\u001b[38;5;124m\"\u001b[39m)\n\u001b[0;32m    247\u001b[0m \u001b[38;5;28;01mreturn\u001b[39;00m \u001b[38;5;28mself\u001b[39m\u001b[38;5;241m.\u001b[39m_httpd\n",
      "\u001b[1;31mRuntimeError\u001b[0m: The HTTP server has not been started yet."
     ]
    }
   ],
   "source": [
    "await vis.stop()\n"
   ]
  }
 ],
 "metadata": {
  "kernelspec": {
   "display_name": "Python 3 (ipykernel)",
   "language": "python",
   "name": "python3"
  },
  "language_info": {
   "codemirror_mode": {
    "name": "ipython",
    "version": 3
   },
   "file_extension": ".py",
   "mimetype": "text/x-python",
   "name": "python",
   "nbconvert_exporter": "python",
   "pygments_lexer": "ipython3",
   "version": "3.10.4"
  }
 },
 "nbformat": 4,
 "nbformat_minor": 5
}
