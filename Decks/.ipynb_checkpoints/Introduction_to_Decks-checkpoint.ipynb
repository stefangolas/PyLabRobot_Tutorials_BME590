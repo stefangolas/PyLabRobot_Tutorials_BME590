{
 "cells": [
  {
   "cell_type": "markdown",
   "id": "baf9fb61-2fc5-446c-9c4a-18801c7d7afa",
   "metadata": {},
   "source": [
    "**Welcome to PyLabRobot!**\n",
    "\n",
    "PyLabRobot is a universal Python interface to liquid-handling robots. Liquid-handling robots aspirate and dispense precise volumes\n",
    "of liquid in a Cartesian coordinate system, essentially the same as hand pipetting.\n",
    "\n",
    "PLR defines a universal interface class called LiquidHandler that provides generic methods for controlling robots\n",
    "such as aspirate and dispense. This class can be instantiated with one of several backends (or drivers)\n",
    "that convert generic commands to machine-specific commands. This makes it easy to write code that will\n",
    "be translatable across many different machines.\n",
    "\n",
    "First we will import `LiquidHandler`, a backend called `ChatterBoxBackend` that prints the text\n",
    "output of our commands, a class `Visualizer` that provides a visualization of the robot deck as we\n",
    "run commands, and a class `STARLetDeck` that will represent the deck of a Hamilton Microlab STARLet, one of\n",
    "the most widely used liquid handling robots."
   ]
  },
  {
   "cell_type": "code",
   "execution_count": 1,
   "id": "f8bcf094-3c3a-41c4-b0e8-5d2caeee9ca9",
   "metadata": {},
   "outputs": [],
   "source": [
    "from pylabrobot.liquid_handling import LiquidHandler\n",
    "from pylabrobot.liquid_handling.backends import ChatterBoxBackend\n",
    "from pylabrobot.visualizer.visualizer import Visualizer\n",
    "from pylabrobot.resources.hamilton import STARLetDeck\n"
   ]
  },
  {
   "cell_type": "code",
   "execution_count": 2,
   "id": "8b372972-d6dc-454b-95eb-d9941405621b",
   "metadata": {},
   "outputs": [
    {
     "name": "stdout",
     "output_type": "stream",
     "text": [
      "Setting up the robot.\n",
      "Resource deck was assigned to the robot.\n",
      "Resource trash was assigned to the robot.\n",
      "Resource trash_core96 was assigned to the robot.\n"
     ]
    }
   ],
   "source": [
    "lh = LiquidHandler(backend=ChatterBoxBackend(), deck=STARLetDeck())\n",
    "await lh.setup()"
   ]
  },
  {
   "cell_type": "code",
   "execution_count": 3,
   "id": "0324171c-101d-4b3d-9103-a0137c620174",
   "metadata": {},
   "outputs": [
    {
     "name": "stdout",
     "output_type": "stream",
     "text": [
      "Websocket server started at http://127.0.0.1:2121\n",
      "File server started at http://127.0.0.1:1337 . Open this URL in your browser.\n"
     ]
    }
   ],
   "source": [
    "vis = Visualizer(resource=lh)\n",
    "await vis.setup()"
   ]
  },
  {
   "cell_type": "markdown",
   "id": "59b03cfb-8e42-441e-9887-e7a87453d7f7",
   "metadata": {},
   "source": [
    "Now we will import a tip carrier, a plate carrier, a plate, and a tip rack."
   ]
  },
  {
   "cell_type": "code",
   "execution_count": 4,
   "id": "7bb36402-2303-4d2e-bd3e-4e10a29e891c",
   "metadata": {},
   "outputs": [],
   "source": [
    "from pylabrobot.resources import (\n",
    "    TIP_CAR_480_A00,\n",
    "    PLT_CAR_L5AC_A00,\n",
    "    Cos_384_PCR,\n",
    "    VWRReagentReservoirs25mL,\n",
    "    HTF_L,\n",
    "    Coordinate\n",
    ")\n"
   ]
  },
  {
   "cell_type": "code",
   "execution_count": 5,
   "id": "7b9ad5c7-f38b-4898-9207-defb926f116e",
   "metadata": {},
   "outputs": [
    {
     "data": {
      "text/plain": [
       "[Trash(name=trash, location=(800.000, 190.600, 137.100), size_x=0, size_y=241.2, size_z=0, category=None),\n",
       " Trash(name=trash_core96, location=(-232.100, 110.300, 189.000), size_x=82.6, size_y=122.4, size_z=0, category=None)]"
      ]
     },
     "execution_count": 5,
     "metadata": {},
     "output_type": "execute_result"
    }
   ],
   "source": [
    "lh.deck.children"
   ]
  },
  {
   "cell_type": "code",
   "execution_count": 17,
   "id": "e5ff4866-3781-42b3-bda4-2ea6d8ee351e",
   "metadata": {},
   "outputs": [],
   "source": [
    "plate_1 = Cos_384_PCR(name = 'plate_1')\n",
    "trough = VWRReagentReservoirs25mL(name = 'trough')\n",
    "plt_car = PLT_CAR_L5AC_A00(name='plate carrier')"
   ]
  },
  {
   "cell_type": "code",
   "execution_count": 7,
   "id": "6465a4fc-aef2-432f-9975-a96e5e9ced8e",
   "metadata": {},
   "outputs": [
    {
     "name": "stdout",
     "output_type": "stream",
     "text": [
      "Resource plate_1 was assigned to the robot.\n"
     ]
    }
   ],
   "source": [
    "lh.deck.assign_child_resource(trough, location = Coordinate(100, 100, 100))"
   ]
  },
  {
   "cell_type": "code",
   "execution_count": 16,
   "id": "11b53f09-118d-483c-8092-6579e0ee8181",
   "metadata": {},
   "outputs": [],
   "source": [
    "plate_1.location = Coordinate(300,300,100)"
   ]
  },
  {
   "cell_type": "code",
   "execution_count": 11,
   "id": "e701921a-3c68-4bd6-ba0f-9e1ff0c0299e",
   "metadata": {},
   "outputs": [
    {
     "data": {
      "text/plain": [
       "[Well(name=plate_1_well_0_0, location=(010.100, 075.100, 001.000), size_x=3.3, size_y=3.3, size_z=9.5, category=well)]"
      ]
     },
     "execution_count": 11,
     "metadata": {},
     "output_type": "execute_result"
    }
   ],
   "source": [
    "Cos_384_PCR(name = 'plate_1')[0]"
   ]
  },
  {
   "cell_type": "code",
   "execution_count": 6,
   "id": "5e7c1218-70e9-4905-b15a-16af3259c79f",
   "metadata": {},
   "outputs": [
    {
     "ename": "NameError",
     "evalue": "name 'Cos_96_DW_1mL' is not defined",
     "output_type": "error",
     "traceback": [
      "\u001b[1;31m---------------------------------------------------------------------------\u001b[0m",
      "\u001b[1;31mNameError\u001b[0m                                 Traceback (most recent call last)",
      "Cell \u001b[1;32mIn[6], line 2\u001b[0m\n\u001b[0;32m      1\u001b[0m plt_car \u001b[38;5;241m=\u001b[39m PLT_CAR_L5AC_A00(name\u001b[38;5;241m=\u001b[39m\u001b[38;5;124m'\u001b[39m\u001b[38;5;124mplate carrier\u001b[39m\u001b[38;5;124m'\u001b[39m)\n\u001b[1;32m----> 2\u001b[0m plt_car[\u001b[38;5;241m0\u001b[39m] \u001b[38;5;241m=\u001b[39m plate_1 \u001b[38;5;241m=\u001b[39m \u001b[43mCos_96_DW_1mL\u001b[49m(name\u001b[38;5;241m=\u001b[39m\u001b[38;5;124m'\u001b[39m\u001b[38;5;124mplate_01\u001b[39m\u001b[38;5;124m'\u001b[39m)\n\u001b[0;32m      3\u001b[0m plt_car[\u001b[38;5;241m1\u001b[39m] \u001b[38;5;241m=\u001b[39m plate_2 \u001b[38;5;241m=\u001b[39m Cos_96_DW_1mL(name\u001b[38;5;241m=\u001b[39m\u001b[38;5;124m'\u001b[39m\u001b[38;5;124mplate_02\u001b[39m\u001b[38;5;124m'\u001b[39m)\n\u001b[0;32m      4\u001b[0m plt_car[\u001b[38;5;241m2\u001b[39m] \u001b[38;5;241m=\u001b[39m plate_3 \u001b[38;5;241m=\u001b[39m Cos_96_DW_1mL(name\u001b[38;5;241m=\u001b[39m\u001b[38;5;124m'\u001b[39m\u001b[38;5;124mplate_03\u001b[39m\u001b[38;5;124m'\u001b[39m)\n",
      "\u001b[1;31mNameError\u001b[0m: name 'Cos_96_DW_1mL' is not defined"
     ]
    }
   ],
   "source": [
    "plt_car = PLT_CAR_L5AC_A00(name='plate carrier')\n",
    "plt_car[0] = plate_1 = Cos_96_DW_1mL(name='plate_01')\n",
    "plt_car[1] = plate_2 = Cos_96_DW_1mL(name='plate_02')\n",
    "plt_car[2] = plate_3 = Cos_96_DW_1mL(name='plate_03')\n",
    "lh.deck.assign_child_resource(plt_car, rails=8)\n"
   ]
  },
  {
   "cell_type": "code",
   "execution_count": 7,
   "id": "2b13769e-f2f3-46e8-a207-5ed57ca1c89a",
   "metadata": {},
   "outputs": [
    {
     "data": {
      "text/plain": [
       "'Rail     Resource                   Type                Coordinates (mm)\\n===============================================================================================\\n(8)  ├── plate carrier              PlateCarrier        (257.500, 063.000, 100.000)\\n     │   ├── plate_01               Plate               (275.500, 146.000, 187.150)\\n     │   ├── plate_02               Plate               (275.500, 242.000, 187.150)\\n     │   ├── plate_03               Plate               (275.500, 338.000, 187.150)\\n     │   ├── <empty>\\n     │   ├── <empty>\\n     │\\n(15) ├── tip carrier                TipCarrier          (415.000, 063.000, 100.000)\\n     │   ├── tips_01                TipRack             (432.900, 145.800, 131.450)\\n     │   ├── tips_02                TipRack             (432.900, 241.800, 131.450)\\n     │   ├── tips_03                TipRack             (432.900, 337.800, 131.450)\\n     │   ├── tips_04                TipRack             (432.900, 433.800, 131.450)\\n     │   ├── tips_05                TipRack             (432.900, 529.800, 131.450)\\n     │\\n(32) ├── trash                      Trash               (800.000, 190.600, 137.100)\\n'"
      ]
     },
     "execution_count": 7,
     "metadata": {},
     "output_type": "execute_result"
    }
   ],
   "source": [
    "lh.deck.summary()"
   ]
  },
  {
   "cell_type": "code",
   "execution_count": 12,
   "id": "08fb2161-4fc7-4312-9864-e85a46f02bcc",
   "metadata": {},
   "outputs": [],
   "source": [
    "await vis.stop()\n"
   ]
  }
 ],
 "metadata": {
  "kernelspec": {
   "display_name": "Python 3 (ipykernel)",
   "language": "python",
   "name": "python3"
  },
  "language_info": {
   "codemirror_mode": {
    "name": "ipython",
    "version": 3
   },
   "file_extension": ".py",
   "mimetype": "text/x-python",
   "name": "python",
   "nbconvert_exporter": "python",
   "pygments_lexer": "ipython3",
   "version": "3.11.0"
  }
 },
 "nbformat": 4,
 "nbformat_minor": 5
}
