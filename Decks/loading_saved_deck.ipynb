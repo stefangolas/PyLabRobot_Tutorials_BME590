{
 "cells": [
  {
   "cell_type": "markdown",
   "id": "baf9fb61-2fc5-446c-9c4a-18801c7d7afa",
   "metadata": {},
   "source": [
    "**Loading a Saved Deck**\n",
    "\n",
    "Let's say we want to design a deck and reuse it at a later point, or in a different script. We can start the visualizer by loading a previously saved deck stored as a JSON file."
   ]
  },
  {
   "cell_type": "code",
   "execution_count": 2,
   "id": "f8bcf094-3c3a-41c4-b0e8-5d2caeee9ca9",
   "metadata": {},
   "outputs": [],
   "source": [
    "from pylabrobot.liquid_handling import LiquidHandler\n",
    "from pylabrobot.liquid_handling.backends import ChatterBoxBackend\n",
    "from pylabrobot.visualizer.visualizer import Visualizer\n",
    "from pylabrobot.resources import Resource\n",
    "deck = Resource.load_from_json_file(json_file = \"starter_deck.json\")"
   ]
  },
  {
   "cell_type": "markdown",
   "id": "16d7eff2-ed91-4d3d-995e-cf59ce1ea57b",
   "metadata": {},
   "source": [
    "Note the syntax we use to load the saved deck. We import the base class `Resource` and then call the `load_from_json_file` method on it without instantiating an object. This is because that method is a class method, unlike most methods which can only be called from instantiated objects. "
   ]
  },
  {
   "cell_type": "code",
   "execution_count": 3,
   "id": "8b372972-d6dc-454b-95eb-d9941405621b",
   "metadata": {},
   "outputs": [
    {
     "name": "stdout",
     "output_type": "stream",
     "text": [
      "Setting up the robot.\n",
      "Resource deck was assigned to the robot.\n",
      "Resource trash was assigned to the robot.\n",
      "Resource trash_core96 was assigned to the robot.\n",
      "Resource trough was assigned to the robot.\n",
      "Resource plate carrier was assigned to the robot.\n",
      "Websocket server started at http://127.0.0.1:2121\n",
      "File server started at http://127.0.0.1:1337 . Open this URL in your browser.\n"
     ]
    }
   ],
   "source": [
    "lh = LiquidHandler(backend=ChatterBoxBackend(), deck=deck)\n",
    "await lh.setup()\n",
    "\n",
    "vis = Visualizer(resource=lh)\n",
    "await vis.setup()"
   ]
  },
  {
   "cell_type": "markdown",
   "id": "3524c8ee-6d86-4bd7-806b-d391433a5a06",
   "metadata": {},
   "source": [
    "You can see in the visualizer that the deck made previously has been loaded."
   ]
  },
  {
   "cell_type": "code",
   "execution_count": 1,
   "id": "08fb2161-4fc7-4312-9864-e85a46f02bcc",
   "metadata": {},
   "outputs": [
    {
     "ename": "NameError",
     "evalue": "name 'vis' is not defined",
     "output_type": "error",
     "traceback": [
      "\u001b[1;31m---------------------------------------------------------------------------\u001b[0m",
      "\u001b[1;31mNameError\u001b[0m                                 Traceback (most recent call last)",
      "Cell \u001b[1;32mIn[1], line 1\u001b[0m\n\u001b[1;32m----> 1\u001b[0m \u001b[38;5;28;01mawait\u001b[39;00m \u001b[43mvis\u001b[49m\u001b[38;5;241m.\u001b[39mstop()\n",
      "\u001b[1;31mNameError\u001b[0m: name 'vis' is not defined"
     ]
    }
   ],
   "source": [
    "await vis.stop()\n"
   ]
  }
 ],
 "metadata": {
  "kernelspec": {
   "display_name": "Python 3 (ipykernel)",
   "language": "python",
   "name": "python3"
  },
  "language_info": {
   "codemirror_mode": {
    "name": "ipython",
    "version": 3
   },
   "file_extension": ".py",
   "mimetype": "text/x-python",
   "name": "python",
   "nbconvert_exporter": "python",
   "pygments_lexer": "ipython3",
   "version": "3.11.0"
  }
 },
 "nbformat": 4,
 "nbformat_minor": 5
}
